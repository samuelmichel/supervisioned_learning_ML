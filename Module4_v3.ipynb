{
 "cells": [
  {
   "cell_type": "markdown",
   "metadata": {
    "deletable": false,
    "editable": false,
    "nbgrader": {
     "cell_type": "markdown",
     "checksum": "47cb0b0401aabc3b1c1858711a64db4f",
     "grade": false,
     "grade_id": "cell-8ae6945a5595d011",
     "locked": true,
     "schema_version": 3,
     "solution": false,
     "task": false
    }
   },
   "source": [
    "### Grading\n",
    "The final score that you will receive for your programming assignment is generated in relation to the total points set in your programming assignment item—not the total point value in the nbgrader notebook.<br>\n",
    "When calculating the final score shown to learners, the programming assignment takes the percentage of earned points vs. the total points provided by nbgrader and returns a score matching the equivalent percentage of the point value for the programming assignment.<br>\n",
    "**DO NOT CHANGE VARIABLE OR METHOD SIGNATURES** The autograder will not work properly if your change the variable or method signatures. "
   ]
  },
  {
   "cell_type": "markdown",
   "metadata": {
    "deletable": false,
    "editable": false,
    "nbgrader": {
     "cell_type": "markdown",
     "checksum": "4b279f49e6ddcabe7c100e2079f6e4d2",
     "grade": false,
     "grade_id": "cell-d853bae6a8cc9070",
     "locked": true,
     "schema_version": 3,
     "solution": false,
     "task": false
    }
   },
   "source": [
    "### Validate Button\n",
    "Please note that this assignment uses nbgrader to facilitate grading. You will see a **validate button** at the top of your Jupyter notebook. If you hit this button, it will run tests cases for the lab that aren't hidden. It is good to use the validate button before submitting the lab. Do know that the labs in the course contain hidden test cases. The validate button will not let you know whether these test cases pass. After submitting your lab, you can see more information about these hidden test cases in the Grader Output. <br>\n",
    "***Cells with longer execution times will cause the validate button to time out and freeze. Please know that if you run into Validate time-outs, it will not affect the final submission grading.*** <br>"
   ]
  },
  {
   "cell_type": "markdown",
   "metadata": {
    "deletable": false,
    "editable": false,
    "nbgrader": {
     "cell_type": "markdown",
     "checksum": "37683eeda215146b65f5026e9ebdb551",
     "grade": false,
     "grade_id": "cell-dbd2d13ca117f619",
     "locked": true,
     "schema_version": 3,
     "solution": false,
     "task": false
    }
   },
   "source": [
    "# Module 4: K-nearest neighbors"
   ]
  },
  {
   "cell_type": "markdown",
   "metadata": {
    "deletable": false,
    "editable": false,
    "nbgrader": {
     "cell_type": "markdown",
     "checksum": "d6034adfae601616aef70988388e3b07",
     "grade": false,
     "grade_id": "cell-19fba0d07cf433ba",
     "locked": true,
     "schema_version": 3,
     "solution": false,
     "task": false
    }
   },
   "source": [
    "Run the cell below to ensure that the required packages are imported."
   ]
  },
  {
   "cell_type": "code",
   "execution_count": 1,
   "metadata": {
    "deletable": false,
    "editable": false,
    "nbgrader": {
     "cell_type": "code",
     "checksum": "86084135e0186ef2a1af8d212a59371c",
     "grade": false,
     "grade_id": "cell-e64ccd51e3e81b02",
     "locked": true,
     "schema_version": 3,
     "solution": false,
     "task": false
    }
   },
   "outputs": [],
   "source": [
    "import math\n",
    "import pickle\n",
    "import gzip\n",
    "import numpy as np\n",
    "import matplotlib.pylab as plt\n",
    "%matplotlib inline\n",
    "\n",
    "# importing all the required libraries\n",
    "\n",
    "from math import exp\n",
    "import numpy as np\n",
    "import pandas as pd\n",
    "import sklearn\n",
    "from sklearn.linear_model import LogisticRegression\n",
    "from sklearn.tree import DecisionTreeClassifier\n",
    "from sklearn.datasets import load_breast_cancer\n",
    "from sklearn.model_selection import train_test_split\n",
    "import matplotlib.pyplot as plt\n",
    "%matplotlib inline\n",
    "\n",
    "from sklearn.metrics import roc_auc_score\n",
    "from sklearn.metrics import roc_curve"
   ]
  },
  {
   "cell_type": "markdown",
   "metadata": {
    "deletable": false,
    "editable": false,
    "nbgrader": {
     "cell_type": "markdown",
     "checksum": "f16a22959bf9d0a98cf14df7ac88266b",
     "grade": false,
     "grade_id": "cell-703de6192d07f99f",
     "locked": true,
     "schema_version": 3,
     "solution": false,
     "task": false
    }
   },
   "source": [
    "### Problem 1 : Building a K- Nearest neighbours classifier for handwritten digit recognition [15 pts, Peer Review] \n",
    "\n",
    "In this problem you will complete some code to build a k-nearest neighbour classifier to classify images of handwritten digits (0-9). For this purpose we will use a famous open-source dataset of handwritten digits called the MNIST that is ubiquitously used for testing a number of classification algorithms in machine learning."
   ]
  },
  {
   "cell_type": "code",
   "execution_count": 2,
   "metadata": {
    "deletable": false,
    "editable": false,
    "nbgrader": {
     "cell_type": "code",
     "checksum": "1a8b06a6e5c3891df1b08b9d4ca64867",
     "grade": false,
     "grade_id": "cell-d0067365eb87b126",
     "locked": true,
     "schema_version": 3,
     "solution": false,
     "task": false
    }
   },
   "outputs": [],
   "source": [
    "# This cell sets up the MNIST dataset \n",
    "\n",
    "class MNIST_import:\n",
    "    \"\"\"\n",
    "    sets up MNIST dataset from OpenML \n",
    "    \"\"\"\n",
    "    def __init__(self):\n",
    "        \n",
    "        df = pd.read_csv(\"data/mnist_784.csv\")\n",
    "        \n",
    "        # Create arrays for the features and the response variable\n",
    "        # store for use later \n",
    "        y = df['class'].values\n",
    "        X = df.drop('class', axis=1).values\n",
    "         \n",
    "        # Convert the labels to numeric labels\n",
    "        y = np.array(pd.to_numeric(y))\n",
    "        \n",
    "        # create training and validation sets \n",
    "        self.train_x, self.train_y = X[:5000,:], y[:5000]\n",
    "        self.val_x, self.val_y = X[5000:6000,:], y[5000:6000]\n",
    "        \n",
    "data = MNIST_import()"
   ]
  },
  {
   "cell_type": "code",
   "execution_count": 3,
   "metadata": {
    "deletable": false,
    "editable": false,
    "nbgrader": {
     "cell_type": "code",
     "checksum": "a666bb409680d5b5b14c47c2c84b9ec2",
     "grade": false,
     "grade_id": "cell-7552f1b93c13729b",
     "locked": true,
     "schema_version": 3,
     "solution": false,
     "task": false
    }
   },
   "outputs": [],
   "source": [
    "def view_digit(x, label=None):\n",
    "    fig = plt.figure(figsize=(3,3))\n",
    "    plt.imshow(x.reshape(28,28), cmap='gray');\n",
    "    plt.xticks([]); plt.yticks([]);\n",
    "    if label: plt.xlabel(\"true: {}\".format(label), fontsize=16)"
   ]
  },
  {
   "cell_type": "markdown",
   "metadata": {
    "deletable": false,
    "editable": false,
    "nbgrader": {
     "cell_type": "markdown",
     "checksum": "1b23149930b1ad2b6b94c348677522b0",
     "grade": false,
     "grade_id": "cell-b5f5237b858c449d",
     "locked": true,
     "schema_version": 3,
     "solution": false,
     "task": false
    }
   },
   "source": [
    "Display a particular digit using the above function:"
   ]
  },
  {
   "cell_type": "code",
   "execution_count": 4,
   "metadata": {
    "deletable": false,
    "nbgrader": {
     "cell_type": "code",
     "checksum": "33529119ce226244fd9100f80251920d",
     "grade": false,
     "grade_id": "cell-3e3b1bbbe1467ca7",
     "locked": false,
     "schema_version": 3,
     "solution": true,
     "task": false
    }
   },
   "outputs": [
    {
     "data": {
      "image/png": "[encoded data removed]",
      "text/plain": [
       "<Figure size 216x216 with 1 Axes>"
      ]
     },
     "metadata": {},
     "output_type": "display_data"
    }
   ],
   "source": [
    "training_index = 9\n",
    "# your code here\n",
    "#print (np.array([data.train_x[0]]))\n",
    "view_digit(data.train_x[training_index], data.train_y[training_index])\n"
   ]
  },
  {
   "cell_type": "markdown",
   "metadata": {
    "deletable": false,
    "editable": false,
    "nbgrader": {
     "cell_type": "markdown",
     "checksum": "60097aa2e575b01c2d8d2f96e287b9cb",
     "grade": false,
     "grade_id": "cell-87383daf2fbafe0a",
     "locked": true,
     "schema_version": 3,
     "solution": false,
     "task": false
    }
   },
   "source": [
    "**Part 1 [5 points]**\n",
    "Fill in the code in the following cell to determine the following quantities:\n",
    "   - Number of pixels in each image\n",
    "   - Number of examples in the training set\n",
    "   - Number of examples in the test set\n",
    "   "
   ]
  },
  {
   "cell_type": "code",
   "execution_count": 5,
   "metadata": {
    "deletable": false,
    "nbgrader": {
     "cell_type": "code",
     "checksum": "253eeb6aab707aa6f5d142b8cfa226b6",
     "grade": false,
     "grade_id": "cell-217762899b37f199",
     "locked": false,
     "schema_version": 3,
     "solution": true,
     "task": false
    }
   },
   "outputs": [
    {
     "name": "stdout",
     "output_type": "stream",
     "text": [
      "5000\n",
      "1000\n",
      "784\n"
     ]
    }
   ],
   "source": [
    "# Here are the numbers you need to provide here:\n",
    "num_training_examples = 0\n",
    "num_test_examples = 0\n",
    "pixels_per_image = 0\n",
    "\n",
    "# your code here\n",
    "import statistics\n",
    "\n",
    "num_training_examples = len(data.train_x)\n",
    "num_test_examples = len(data.val_x)\n",
    "pixels_per_image = len(data.train_x[0])\n",
    "\n",
    "print(num_training_examples)\n",
    "print(num_test_examples)\n",
    "print(pixels_per_image)\n",
    "\n",
    "\n",
    "class KNN:\n",
    "    \"\"\"\n",
    "    Class to store data for regression problems \n",
    "    \"\"\"\n",
    "    def __init__(self, x_train, y_train, K=5):\n",
    "        \"\"\"\n",
    "        Creates a kNN instance\n",
    "\n",
    "        :param x_train: numpy array with shape (n_rows,1)- e.g. [[1,2],[3,4]]\n",
    "        :param y_train: numpy array with shape (n_rows,)- e.g. [1,-1]\n",
    "        :param K: The number of nearest points to consider in classification\n",
    "        \"\"\"\n",
    "        \n",
    "        # Import and build the BallTree on training features \n",
    "        from sklearn.neighbors import BallTree\n",
    "        self.balltree = BallTree(x_train)\n",
    "        self.y_train = y_train\n",
    "        self.K = K\n",
    "    \n",
    "        \n",
    "    def majority(self, neighbor_indices, neighbor_distances=None):\n",
    "        \"\"\"\n",
    "        Given indices of nearest neighbors in training set, return the majority label. \n",
    "        Break ties by considering 1 fewer neighbor until a clear winner is found. \n",
    "\n",
    "        :param neighbor_indices: The indices of the K nearest neighbors in self.X_train \n",
    "        :param neighbor_distances: Corresponding distances from query point to K nearest neighbors. \n",
    "        \"\"\"\n",
    "        \n",
    "        # your code here\n",
    "#        print ('majority inputs')\n",
    "#        print ('neighbor_indices', type(neighbor_indices), np.shape(neighbor_indices))  \n",
    "#        print ('neighbor_distances',type(neighbor_distances),np.shape(neighbor_indices))\n",
    "        ind = neighbor_indices[0]\n",
    "        dist = neighbor_distances[0]\n",
    "        y_values = self.y_train[ind]\n",
    "#        print (y_values)\n",
    "        from collections import Counter\n",
    "        b = Counter(y_values).most_common(2)\n",
    "        if len(b) == 1:\n",
    "            b = int(b[0][0])\n",
    "#            print ('return', type(b), 'value', b)\n",
    "            return b\n",
    "            while b[0][1] == b[1][1] and len(b)>1:\n",
    "                ind = ind[0:-1]\n",
    "                dist = dist[0:-1]\n",
    "                y_values = self.y_train[ind]\n",
    "                b = Counter(y_values).most_common(2)\n",
    "                if len(b)==1:\n",
    "                    b = int(b[0][0])\n",
    "#                    print ('return', type(b), 'value', b)\n",
    "                    return b\n",
    "        b = int(b[0][0])\n",
    "#        print ('return', type(b), 'value', b)\n",
    "        return b\n",
    "        \n",
    "        \n",
    "            \n",
    "        \n",
    "    def classify(self, x):\n",
    "        \"\"\"\n",
    "        Given a query point, return the predicted label \n",
    "        \n",
    "        :param x: a query point stored as an ndarray  \n",
    "        \"\"\"\n",
    "        # your code here\n",
    "#        print ('classify input')\n",
    "#        print ('x', type(x), np.shape(x), x)\n",
    "        x_c = np.atleast_2d(np.array(x))\n",
    "        neighbor_distances, neighbor_indices = self.balltree.query(x_c, self.K)\n",
    "        classif = self.majority(neighbor_indices, neighbor_distances)\n",
    "#        print ('return', type(classif), 'value', classif)\n",
    "        return classif\n",
    "    \n",
    "    \n",
    "    def predict(self, X):\n",
    "        \"\"\"\n",
    "          Given an ndarray of query points, return yhat, an ndarray of predictions \n",
    "\n",
    "       :param X: an (m x p) dimension ndarray of points to predict labels for \n",
    "        \"\"\"  \n",
    "        # your code here\n",
    "#        print ('predict input')\n",
    "#        print ('X', type(X), np.shape(X)) \n",
    "        pred = []\n",
    "        X_value = np.atleast_2d(X)\n",
    "        for m in range(len(X_value)):\n",
    "            pred.append(self.classify(X_value[m]))\n",
    "        yhat = np.array(pred)\n",
    "#        print('return', yhat)\n",
    "        return yhat\n",
    "\n",
    "\n",
    "knn= KNN(data.train_x, data.train_y, 3)\n",
    "val_yhat = knn.predict(data.val_x[:50])\n"
   ]
  },
  {
   "cell_type": "code",
   "execution_count": 6,
   "metadata": {
    "deletable": false,
    "editable": false,
    "nbgrader": {
     "cell_type": "code",
     "checksum": "c94ee92e257c294077b0b3e323a890b0",
     "grade": true,
     "grade_id": "cell-025e862a5d134f86",
     "locked": true,
     "points": 5,
     "schema_version": 3,
     "solution": false,
     "task": false
    }
   },
   "outputs": [],
   "source": [
    "# tests num_training_exampls, num_test_examples and pixels_per_image"
   ]
  },
  {
   "cell_type": "markdown",
   "metadata": {
    "deletable": false,
    "editable": false,
    "nbgrader": {
     "cell_type": "markdown",
     "checksum": "4dd76b46af049fb415b4c73aeafb95b5",
     "grade": false,
     "grade_id": "cell-7b3967987775d7c7",
     "locked": true,
     "schema_version": 3,
     "solution": false,
     "task": false
    }
   },
   "source": [
    "Now that we have our MNIST data in the right form, let us move on to building our KNN classifier."
   ]
  },
  {
   "cell_type": "markdown",
   "metadata": {
    "deletable": false,
    "editable": false,
    "nbgrader": {
     "cell_type": "markdown",
     "checksum": "5edf1c578c77410d3249e766c8b8fe04",
     "grade": false,
     "grade_id": "cell-757b46aa24e4f614",
     "locked": true,
     "schema_version": 3,
     "solution": false,
     "task": false
    }
   },
   "source": [
    "**Part 2 [10 points]**: Modify the class above to implement a KNN classifier.  There are three methods that you need to complete: \n",
    "\n",
    "- `predict`: Given an $m \\times p$ matrix of validation data with $m$ examples each with $p$ features, return a length-$m$ vector of predicted labels by calling the `classify` function on each example. \n",
    "- `classify`: Given a single query example with $p$ features, return its predicted class label as an integer using KNN by calling the `majority` function. \n",
    "- `majority`: Given an array of indices into the training set corresponding to the $K$ training examples that are nearest to the query point, return the majority label as an integer.  If there is a tie for the majority label using $K$ nearest neighbors, reduce $K$ by 1 and try again.  Continue reducing $K$ until there is a winning label. \n",
    "\n",
    "**Notes**: \n",
    "- Don't even think about implementing nearest-neighbor search or any distance metrics yourself.  Instead, go read the documentation for Scikit-Learn's [BallTree](http://scikit-learn.org/stable/modules/generated/sklearn.neighbors.BallTree.html) object.  You will find that its implemented [query](http://scikit-learn.org/stable/modules/generated/sklearn.neighbors.BallTree.html#sklearn.neighbors.BallTree.query) method can do most of the heavy lifting for you. \n",
    "- Do not use Scikit-Learn's KNeighborsClassifier in this problem.  We're implementing this ourselves. "
   ]
  },
  {
   "cell_type": "code",
   "execution_count": 7,
   "metadata": {
    "deletable": false,
    "editable": false,
    "nbgrader": {
     "cell_type": "code",
     "checksum": "8cd44beb24abc8bd842279bea691e098",
     "grade": true,
     "grade_id": "cell-d92321e3b2c6d5f7",
     "locked": true,
     "points": 10,
     "schema_version": 3,
     "solution": false,
     "task": false
    }
   },
   "outputs": [],
   "source": [
    "# tests KNN class\n"
   ]
  },
  {
   "cell_type": "code",
   "execution_count": null,
   "metadata": {
    "deletable": false,
    "nbgrader": {
     "cell_type": "code",
     "checksum": "bebfcbe8eb23d8306298a4161430358c",
     "grade": false,
     "grade_id": "cell-814a5ca0dfd2a437",
     "locked": false,
     "schema_version": 3,
     "solution": true,
     "task": false
    }
   },
   "outputs": [],
   "source": []
  },
  {
   "cell_type": "markdown",
   "metadata": {
    "deletable": false,
    "editable": false,
    "nbgrader": {
     "cell_type": "markdown",
     "checksum": "4c9a5a7e158286b71078023d8f510af4",
     "grade": false,
     "grade_id": "cell-ce189b2957563a2b",
     "locked": true,
     "schema_version": 3,
     "solution": false,
     "task": false
    }
   },
   "source": [
    "**Part 3 : Checking how well your classifier does**\n",
    "Use your `KNN` class to perform KNN on the validation data with $K=3$ and do the following: \n",
    "\n",
    "- **[Peer Review]** Create a **confusion matrix** (feel free to use the Scikit-Learn [confusion_matrix](http://scikit-learn.org/stable/modules/generated/sklearn.metrics.confusion_matrix.html) function). Upload a screenshot or copy of your confusion matrix for this week's Peer Review assignment.<br>\n",
    "**Note:** your code for this section may cause the Validate button to time out. If you want to run the Validate button prior to submitting, you could comment out the code in this section after completing the Peer Review."
   ]
  },
  {
   "cell_type": "code",
   "execution_count": 7,
   "metadata": {
    "deletable": false,
    "nbgrader": {
     "cell_type": "code",
     "checksum": "7f4c9391a02b6a0b7b558d3daf24e8d8",
     "grade": false,
     "grade_id": "cell-acaff11620e9a669",
     "locked": false,
     "schema_version": 3,
     "solution": true,
     "task": false
    }
   },
   "outputs": [
    {
     "name": "stdout",
     "output_type": "stream",
     "text": [
      "     0    1   2    3   4   5    6   7   8    9\n",
      "0  112    0   1    1   0   0    0   0   1    1\n",
      "1    0  106   2    1   2   0    0   2   1    0\n",
      "2    0    0  86    0   0   0    0   0   0    0\n",
      "3    0    0   2  111   0   2    0   0   1    1\n",
      "4    0    0   0    0  82   2    0   0   1    2\n",
      "5    0    0   0    2   0  75    1   1   0    0\n",
      "6    1    0   0    0   0   1  104   0   2    0\n",
      "7    0    1   2    0   0   0    0  93   1    2\n",
      "8    0    0   0    0   0   0    2   0  81    0\n",
      "9    0    1   0    0   4   0    0   5   1  100\n",
      "acc 0.95\n"
     ]
    }
   ],
   "source": [
    "# use your KNN class to perform KNN on the validation data with K = 3\n",
    "#knn =\n",
    "# val_yhat =\n",
    "k=3\n",
    "\n",
    "# create a confusion matrix \n",
    "# your code here\n",
    "'''\n",
    "x = np.array([[0.], [2.], [3.], [4.], [5.],[6.]])\n",
    "y = np.array([-1,-1,-1,1,1,1])\n",
    "x_test = np.array([0.])\n",
    "print (x, y)\n",
    "knn = KNN(x,y,k)\n",
    "\n",
    "val_test = knn.predict(x_test)\n",
    "print(val_test)\n",
    "'''\n",
    "knn= KNN(data.train_x, data.train_y, k)\n",
    "val_yhat = knn.predict(data.val_x)\n",
    "\n",
    "#print(val_yhat)\n",
    "\n",
    "matriz = [] # lista vazia\n",
    "for i in range(10):\n",
    "        # cria a linha i\n",
    "    linha = [] # lista vazia\n",
    "    for j in range(10):\n",
    "        linha.append(0)\n",
    "    matriz.append(linha)\n",
    "\n",
    "for i in range(len(val_yhat)):\n",
    "    matriz[val_yhat[i]][data.val_y[i]] = matriz[val_yhat[i]][data.val_y[i]]+1\n",
    "\n",
    "confusion = pd.DataFrame(matriz, index=range(0,10),columns=range(0,10))\n",
    "print (confusion)\n",
    "\n",
    "TR, FR = (0, 0)\n",
    "for i in range(10):\n",
    "    TR = TR+ matriz[i][i]\n",
    "    FR = FR + sum(matriz[i])\n",
    "print('acc', TR/FR)"
   ]
  },
  {
   "cell_type": "markdown",
   "metadata": {
    "deletable": false,
    "editable": false,
    "nbgrader": {
     "cell_type": "markdown",
     "checksum": "0495640cf8371a30a7da5b25e07cefe8",
     "grade": false,
     "grade_id": "cell-92d48cabe43f95ef",
     "locked": true,
     "schema_version": 3,
     "solution": false,
     "task": false
    }
   },
   "source": [
    "Based on your confusion matrix, which digits seem to get confused with other digits the most? Put your answer in this week's Peer Review assignment."
   ]
  },
  {
   "cell_type": "markdown",
   "metadata": {
    "deletable": false,
    "editable": false,
    "nbgrader": {
     "cell_type": "markdown",
     "checksum": "a142e80e1e30612d3ff4717d60281f57",
     "grade": false,
     "grade_id": "cell-d7a33a558ddc8690",
     "locked": true,
     "schema_version": 3,
     "solution": false,
     "task": false
    }
   },
   "source": [
    "**Accuracy Plot [Peer Review]**: Create a plot of the accuracy of the KNN on the test set on the same set of axes for  𝐾=1,2,…,20  (feel free to go out to  𝐾=30  if your implementation is efficient enough to allow it). <br>\n",
    "Upload a copy or screenshot of the plot for this week's Peer Review assignment. <br>\n",
    "**Note:** your code for this section may cause the Validate button to time out. If you want to run the Validate button prior to submitting, you could comment out the code in this section after completing the Peer Review."
   ]
  },
  {
   "cell_type": "code",
   "execution_count": 11,
   "metadata": {
    "deletable": false,
    "nbgrader": {
     "cell_type": "code",
     "checksum": "52620d488b42fbf7c219d86081e036a2",
     "grade": false,
     "grade_id": "cell-711e2eff0fa2c38e",
     "locked": false,
     "schema_version": 3,
     "solution": true,
     "task": false
    }
   },
   "outputs": [
    {
     "name": "stdout",
     "output_type": "stream",
     "text": [
      "[0.942, 0.942, 0.95, 0.946, 0.937, 0.943, 0.931, 0.933, 0.928, 0.93, 0.928, 0.928, 0.929, 0.927, 0.921, 0.919, 0.917, 0.919, 0.918, 0.918, 0.914, 0.915, 0.915, 0.913, 0.913, 0.911, 0.91, 0.911, 0.906, 0.907]\n"
     ]
    },
    {
     "data": {
      "image/png": "[encoded data removed]",
      "text/plain": [
       "<Figure size 864x504 with 1 Axes>"
      ]
     },
     "metadata": {
      "needs_background": "light"
     },
     "output_type": "display_data"
    }
   ],
   "source": [
    "'''\n",
    "acc = []\n",
    "wacc = []\n",
    "allks = range(1,31)\n",
    "\n",
    "# your code here\n",
    "for x in allks:\n",
    "    model= KNN(data.train_x, data.train_y, x)\n",
    "    val_yhat = model.predict(data.val_x)\n",
    "    conc = [] # lista vazia\n",
    "    for i in range(10):\n",
    "        # cria a linha i\n",
    "        linha = [] # lista vazia\n",
    "        for j in range(10):\n",
    "            linha.append(0)\n",
    "        conc.append(linha)\n",
    "\n",
    "    for i in range(len(data.val_x)):\n",
    "        conc[val_yhat[i]][data.val_y[i]] = conc[val_yhat[i]][data.val_y[i]]+1\n",
    "    \n",
    "    TR=0\n",
    "    FR=0\n",
    "    for i in range(10):\n",
    "        TR = TR+ conc[i][i]\n",
    "        FR = FR + sum(conc[i])\n",
    "    acc.append(TR/(FR))\n",
    "\n",
    "print (acc)\n",
    "# you can use this code to create your plot    \n",
    "fig, ax = plt.subplots(nrows=1,ncols=1,figsize=(12,7))\n",
    "ax.plot(allks, acc, marker=\"o\", color=\"steelblue\", lw=3, label=\"unweighted\")\n",
    "ax.set_xlabel(\"number neighbors\", fontsize=16)\n",
    "ax.set_ylabel(\"accuracy\", fontsize=16)\n",
    "plt.xticks(range(1,31,2))\n",
    "ax.grid(alpha=0.25)\n",
    "'''"
   ]
  },
  {
   "cell_type": "markdown",
   "metadata": {
    "deletable": false,
    "editable": false,
    "nbgrader": {
     "cell_type": "markdown",
     "checksum": "61096e84f3707ad26d803b37994e9a3f",
     "grade": false,
     "grade_id": "cell-908f560defd729eb",
     "locked": true,
     "schema_version": 3,
     "solution": false,
     "task": false
    }
   },
   "source": [
    "Based on the plot, which value of K results in highest accuracy? Answer this question in this week's Peer Review assignment."
   ]
  },
  {
   "cell_type": "markdown",
   "metadata": {
    "deletable": false,
    "editable": false,
    "nbgrader": {
     "cell_type": "markdown",
     "checksum": "b5eb52badfea436c0e617a0f48971e33",
     "grade": false,
     "grade_id": "cell-6c04a2c214c40b6d",
     "locked": true,
     "schema_version": 3,
     "solution": false,
     "task": false
    }
   },
   "source": [
    "### Problem 2: Decision Tree, post-pruning and cost complexity parameter using sklearn 0.22 [10 points, Peer Review]\n",
    "\n",
    "We will use a pre-processed natural language dataset in the CSV file \"spamdata.csv\" to classify emails as spam or not. Each row contains the word frequency for 54 words plus statistics on the longest \"run\" of captial letters.\n",
    "\n",
    "Word frequency is given by:\n",
    "\n",
    "$$ f_i = m_i / N $$\n",
    "Where $f_i$ is the frequency for word $i$, $m_i$ is the number of times word $i$ appears in the email, and $N$ is the total number of words in the email.\n",
    "\n",
    "We will use decision trees to classify the emails."
   ]
  },
  {
   "cell_type": "markdown",
   "metadata": {
    "deletable": false,
    "editable": false,
    "nbgrader": {
     "cell_type": "markdown",
     "checksum": "bc1f6812e3d28419717e8254ba3dc686",
     "grade": false,
     "grade_id": "cell-9469ebbf05e61aa4",
     "locked": true,
     "schema_version": 3,
     "solution": false,
     "task": false
    }
   },
   "source": [
    "**Part A [5 points]:** Complete the function `get_spam_dataset` to read in values from the dataset and split the data into train and test sets."
   ]
  },
  {
   "cell_type": "code",
   "execution_count": 13,
   "metadata": {
    "deletable": false,
    "nbgrader": {
     "cell_type": "code",
     "checksum": "d0911f4c6b9a6fe2561625198c231253",
     "grade": false,
     "grade_id": "cell-f3baeed090895e48",
     "locked": false,
     "schema_version": 3,
     "solution": true,
     "task": false
    }
   },
   "outputs": [],
   "source": [
    "def get_spam_dataset(filepath=\"data/spamdata.csv\", test_split=0.1):\n",
    "    '''\n",
    "    get_spam_dataset\n",
    "    \n",
    "    Loads csv file located at \"filepath\". Shuffles the data and splits\n",
    "    it so that the you have (1-test_split)*100% training examples and \n",
    "    (test_split)*100% testing examples.\n",
    "    \n",
    "    Args:\n",
    "        filepath: location of the csv file\n",
    "        test_split: percentage/100 of the data should be the testing split\n",
    "        \n",
    "    Returns:\n",
    "        X_train, X_test, y_train, y_test, feature_names\n",
    "        \n",
    "        (in that order)\n",
    "        first four are  np.ndarray\n",
    "    '''         \n",
    "\n",
    "    \n",
    "    # your code here\n",
    "    df = pd.read_csv(filepath, sep=' ')\n",
    "        \n",
    "    # Create arrays for the features and the response variable\n",
    "    # store for use later \n",
    "    y = df['isSPAM'].values\n",
    "    X = df.drop('isSPAM', axis=1).values\n",
    "         \n",
    "    # Convert the labels to numeric labels\n",
    "    y = np.array(pd.to_numeric(y))\n",
    "    print('valores',len(y), np.sum(y))\n",
    "    \n",
    "        \n",
    "    # create training and validation sets\n",
    "#    train_size = int((1-test_split)*len(y))\n",
    "#    print (y, train_size, len(y))\n",
    "#    X_train, y_train = X[-train_size:,:], y[-train_size:]\n",
    "#    X_test, y_test = X[:-train_size,:], y[:-train_size]\n",
    "    feature_names = df.columns\n",
    "    \n",
    "    x_train, x_test, y_train, y_test  = train_test_split(X, y, test_size=test_split)\n",
    "   \n",
    "    return x_train, x_test, y_train, y_test, feature_names"
   ]
  },
  {
   "cell_type": "code",
   "execution_count": 14,
   "metadata": {
    "deletable": false,
    "nbgrader": {
     "cell_type": "code",
     "checksum": "5a0789333a32dedee674a1bebfddbf2e",
     "grade": false,
     "grade_id": "cell-97feaa6f4996b640",
     "locked": false,
     "schema_version": 3,
     "solution": true,
     "task": false
    }
   },
   "outputs": [
    {
     "name": "stdout",
     "output_type": "stream",
     "text": [
      "valores 4601 1813\n"
     ]
    }
   ],
   "source": [
    "# TO-DO: import the data set into five variables: X_train, X_test, y_train, y_test, label_names\n",
    "# Uncomment and edit the line below to complete this task.\n",
    "\n",
    "test_split = 0.2 # default test_split; change it if you'd like; ensure that this variable is used as an argument to your function\n",
    "# your code here\n",
    "X_train, X_test, y_train, y_test, label_names = get_spam_dataset('data/spamdata.csv',test_split)\n",
    "\n",
    "#X_train, X_test, y_train, y_test, label_names = np.arange(5)"
   ]
  },
  {
   "cell_type": "code",
   "execution_count": 15,
   "metadata": {
    "deletable": false,
    "editable": false,
    "nbgrader": {
     "cell_type": "code",
     "checksum": "ad91df4ce877aeee1d8fa2b02181d7c9",
     "grade": true,
     "grade_id": "cell-d0ee21615c2bf06e",
     "locked": true,
     "points": 5,
     "schema_version": 3,
     "solution": false,
     "task": false
    }
   },
   "outputs": [],
   "source": [
    "# tests X_train, X_test, y_train, y_test, and label_names"
   ]
  },
  {
   "cell_type": "markdown",
   "metadata": {
    "deletable": false,
    "editable": false,
    "nbgrader": {
     "cell_type": "markdown",
     "checksum": "9f913d6e2d2867fe04de71bc061fe4f3",
     "grade": false,
     "grade_id": "cell-ac7a846b7ca9e011",
     "locked": true,
     "schema_version": 3,
     "solution": false,
     "task": false
    }
   },
   "source": [
    "**Part B[5 points]** : Build a decision tree classifier using the sklearn toolbox. Then compute metrics for performance like precision and recall. This is a binary classification problem, therefore we can label all points as either positive (SPAM) or negative (NOT SPAM)."
   ]
  },
  {
   "cell_type": "code",
   "execution_count": 16,
   "metadata": {
    "deletable": false,
    "nbgrader": {
     "cell_type": "code",
     "checksum": "b5084036462271dc151260b07283fd68",
     "grade": false,
     "grade_id": "cell-146547fa0aaeaff9",
     "locked": false,
     "schema_version": 3,
     "solution": true,
     "task": false
    }
   },
   "outputs": [
    {
     "name": "stdout",
     "output_type": "stream",
     "text": [
      "precision 0.886039886039886 recall 0.9014492753623189\n",
      "depth 29\n",
      "precision 0.9 recall 0.9130434782608695\n",
      "depth 10\n",
      "precision 0.8626760563380281 recall 0.7101449275362319\n",
      "depth 2\n"
     ]
    }
   ],
   "source": [
    "def build_dt(data_X, data_y, max_depth=None, max_leaf_nodes=None):\n",
    "    '''\n",
    "    This function builds the decision tree classifier and \n",
    "    fits it to the provided data.\n",
    "    \n",
    "    Arguments\n",
    "        data_X - a np.ndarray\n",
    "        data_y - np.ndarray\n",
    "        max_depth - None if unrestricted, otherwise an integer for the maximum\n",
    "                depth the tree can reach.\n",
    "    \n",
    "    Returns:\n",
    "        A trained DecisionTreeClassifier\n",
    "    '''\n",
    "    \n",
    "    # your code here\n",
    "    md = max_depth\n",
    "    mln = max_leaf_nodes\n",
    "    from sklearn import tree\n",
    "    dtc = tree.DecisionTreeClassifier(max_depth=md,max_leaf_nodes=mln)\n",
    "    dtc = dtc.fit(data_X,data_y)\n",
    "    \n",
    "    return dtc\n",
    "\n",
    "tr = build_dt(X_train, y_train, max_depth=None, max_leaf_nodes=None)\n",
    "y_pred = tr.predict(X_test)\n",
    "print('precision', calculate_precision(y_test, y_pred), 'recall', calculate_recall(y_test, y_pred))\n",
    "print('depth', tr.get_depth())\n",
    "\n",
    "tr2 = build_dt(X_train, y_train, max_depth=10, max_leaf_nodes=None)\n",
    "y_pred = tr2.predict(X_test)\n",
    "print('precision', calculate_precision(y_test, y_pred), 'recall', calculate_recall(y_test, y_pred))\n",
    "print('depth',tr2.get_depth())\n",
    "\n",
    "\n",
    "tr = build_dt(X_train, y_train, max_depth=2, max_leaf_nodes=None)\n",
    "y_pred = tr.predict(X_test)\n",
    "print('precision', calculate_precision(y_test, y_pred), 'recall', calculate_recall(y_test, y_pred))\n",
    "print('depth', tr.get_depth())\n",
    "\n"
   ]
  },
  {
   "cell_type": "code",
   "execution_count": 16,
   "metadata": {
    "deletable": false,
    "editable": false,
    "nbgrader": {
     "cell_type": "code",
     "checksum": "29a2871246fc9d1c2bbfb5eb2df09a03",
     "grade": true,
     "grade_id": "cell-0553f9f288fa9ab7",
     "locked": true,
     "points": 5,
     "schema_version": 3,
     "solution": false,
     "task": false
    }
   },
   "outputs": [],
   "source": [
    "# tests build_dt"
   ]
  },
  {
   "cell_type": "markdown",
   "metadata": {
    "deletable": false,
    "editable": false,
    "nbgrader": {
     "cell_type": "markdown",
     "checksum": "62e6ffd8575846c88074465417525f66",
     "grade": false,
     "grade_id": "cell-908ed30f5b48c007",
     "locked": true,
     "schema_version": 3,
     "solution": false,
     "task": false
    }
   },
   "source": [
    "**Part C [Peer Review]**: Here we are going to use `calculate_precision` and `calculate_recall` functions to see how these metrics change when parameters of the tree are changed."
   ]
  },
  {
   "cell_type": "code",
   "execution_count": 10,
   "metadata": {
    "deletable": false,
    "nbgrader": {
     "cell_type": "code",
     "checksum": "38e13d79f432ee27852aa6c531d14c47",
     "grade": false,
     "grade_id": "cell-e4e597da7a07ff30",
     "locked": false,
     "schema_version": 3,
     "solution": true,
     "task": false
    }
   },
   "outputs": [],
   "source": [
    "def calculate_precision(y_true, y_pred, pos_label_value=1.0):\n",
    "    '''\n",
    "    This function accepts the labels and the predictions, then\n",
    "    calculates precision for a binary classifier.\n",
    "    \n",
    "    Args\n",
    "        y_true: np.ndarray\n",
    "        y_pred: np.ndarray\n",
    "        \n",
    "        pos_label_value: (float) the number which represents the postiive\n",
    "        label in the y_true and y_pred arrays. Other numbers will be taken\n",
    "        to be the non-positive class for the binary classifier.\n",
    "    \n",
    "    Returns precision as a floating point number between 0.0 and 1.0\n",
    "    '''\n",
    "    \n",
    "    \n",
    "    # your code here\n",
    "    from sklearn.metrics import confusion_matrix\n",
    "    tn, fp, fn, tp = confusion_matrix(y_true, y_pred).ravel()\n",
    "    precision = tp / (tp + fp)\n",
    "    \n",
    "    return precision\n",
    "\n",
    "def calculate_recall(y_true, y_pred, pos_label_value=1.0):\n",
    "    '''\n",
    "    This function accepts the labels and the predictions, then\n",
    "    calculates recall for a binary classifier.\n",
    "    \n",
    "    Args\n",
    "        y_true: np.ndarray\n",
    "        y_pred: np.ndarray\n",
    "        \n",
    "        pos_label_value: (float) the number which represents the postiive\n",
    "        label in the y_true and y_pred arrays. Other numbers will be taken\n",
    "        to be the non-positive class for the binary classifier.\n",
    "    \n",
    "    Returns precision as a floating point number between 0.0 and 1.0\n",
    "    '''\n",
    "    \n",
    "    # your code here\n",
    "    from sklearn.metrics import confusion_matrix\n",
    "    tn, fp, fn, tp = confusion_matrix(y_true, y_pred).ravel()\n",
    "    recall = tp / (tp + fn)\n",
    "    \n",
    "    return recall"
   ]
  },
  {
   "cell_type": "markdown",
   "metadata": {
    "deletable": false,
    "editable": false,
    "nbgrader": {
     "cell_type": "markdown",
     "checksum": "d54a43e52d8af89861e0f9649cbba75f",
     "grade": false,
     "grade_id": "cell-9bcac958bcd924d9",
     "locked": true,
     "schema_version": 3,
     "solution": false,
     "task": false
    }
   },
   "source": [
    "1. Modifying `max_depth`: \n",
    "    - Create a model with a shallow `max_depth` of 2. Build the model on the training set.\n",
    "    - Report precision/recall on the test set.\n",
    "    - Report depth of the tree."
   ]
  },
  {
   "cell_type": "code",
   "execution_count": 43,
   "metadata": {
    "deletable": false,
    "nbgrader": {
     "cell_type": "code",
     "checksum": "2b2c143cde976b29c7cbef81b2dd80d3",
     "grade": false,
     "grade_id": "cell-4da56f168aee9716",
     "locked": false,
     "schema_version": 3,
     "solution": true,
     "task": false
    }
   },
   "outputs": [
    {
     "name": "stdout",
     "output_type": "stream",
     "text": [
      "precision 0.8859649122807017\n",
      "recall 0.8301369863013699\n",
      "depth 6\n"
     ]
    }
   ],
   "source": [
    "# TODO : Complete the first subtask for max_depth\n",
    "\n",
    "# your code here\n",
    "\n",
    "tr = build_dt(X_train, y_train,6,None)\n",
    "y_pred = tr.predict(X_test)\n",
    "precision = calculate_precision(y_test, y_pred)\n",
    "recall = calculate_recall(y_test, y_pred)\n",
    "\n",
    "print('precision', precision)\n",
    "print('recall', recall)\n",
    "print('depth', tr.get_depth())\n"
   ]
  },
  {
   "cell_type": "markdown",
   "metadata": {
    "deletable": false,
    "editable": false,
    "nbgrader": {
     "cell_type": "markdown",
     "checksum": "a9cc67af060fd8be13c7d392e321d592",
     "grade": false,
     "grade_id": "cell-435dc1ed96be4a55",
     "locked": true,
     "schema_version": 3,
     "solution": false,
     "task": false
    }
   },
   "source": [
    "Submit a screenshot of your code for this week's Peer Review assignment. "
   ]
  },
  {
   "cell_type": "markdown",
   "metadata": {
    "deletable": false,
    "editable": false,
    "nbgrader": {
     "cell_type": "markdown",
     "checksum": "af188b551f93958b5443413c3aa08ed0",
     "grade": false,
     "grade_id": "cell-ef216e433b64fead",
     "locked": true,
     "schema_version": 3,
     "solution": false,
     "task": false
    }
   },
   "source": [
    "2. Modifying `max_leaf_nodes`:\n",
    "    - Create a model with a shallow `max_leaf_nodes` of 4. Build the model on the training set.\n",
    "    - Report precision/recall on the test set.\n",
    "    - Report depth of the tree."
   ]
  },
  {
   "cell_type": "code",
   "execution_count": 17,
   "metadata": {
    "deletable": false,
    "nbgrader": {
     "cell_type": "code",
     "checksum": "36117a89f23b8f5263b11a7a83dad48b",
     "grade": false,
     "grade_id": "cell-ab9251af73821eb8",
     "locked": false,
     "schema_version": 3,
     "solution": true,
     "task": false
    }
   },
   "outputs": [
    {
     "name": "stdout",
     "output_type": "stream",
     "text": [
      "precision 0.8626760563380281\n",
      "recall 0.7101449275362319\n",
      "depth 2\n"
     ]
    }
   ],
   "source": [
    "# TODO : Complete the second subtask for max_depth\n",
    "\n",
    "# your code here\n",
    "tr_leaf4 = build_dt(X_train, y_train,None,4)\n",
    "y_pred = tr_leaf4.predict(X_test)\n",
    "precision = calculate_precision(y_test, y_pred)\n",
    "recall = calculate_recall(y_test, y_pred)\n",
    "\n",
    "print('precision', precision)\n",
    "print('recall', recall)\n",
    "print('depth', tr_leaf4.get_depth())"
   ]
  },
  {
   "cell_type": "markdown",
   "metadata": {
    "deletable": false,
    "editable": false,
    "nbgrader": {
     "cell_type": "markdown",
     "checksum": "327ff43b17aecaa30f8dd42e7d2bca2f",
     "grade": false,
     "grade_id": "cell-1eb1aaf40d8bd956",
     "locked": true,
     "schema_version": 3,
     "solution": false,
     "task": false
    }
   },
   "source": [
    "In your Peer Review answer the following question: <br>\n",
    "How do precision and recall compare when you modify the max depth compared to the max number of leaf nodes? \n",
    "(Make sure to run your models a few times to get an idea). "
   ]
  },
  {
   "cell_type": "markdown",
   "metadata": {
    "deletable": false,
    "editable": false,
    "nbgrader": {
     "cell_type": "markdown",
     "checksum": "4faed1a4f59ba6c6024ad7c8970119f4",
     "grade": false,
     "grade_id": "cell-870b3afd71a87d89",
     "locked": true,
     "schema_version": 3,
     "solution": false,
     "task": false
    }
   },
   "source": [
    "**Part D [Peer Review]** : In class, we used gridsearchCV to do hyperparameter tuning to select the different parameters like `max_depth` to see how our tree grows and avoids overfitting. Here, we will use cost complexity pruning parameter $\\alpha$ sklearn 0.22.1[https://scikit-learn.org/stable/user_guide.html] to prune our tree after training so as to improve accuracy on unseen data. In this exercise you will iterate over different `ccp_alpha` values and identify how performance is modulated by this parameter. <br>\n",
    "**Note:** your code for this section may cause the Validate button to time out. If you want to run the Validate button prior to submitting, you could comment out the code in this section after completing the Peer Review."
   ]
  },
  {
   "cell_type": "code",
   "execution_count": 18,
   "metadata": {
    "deletable": false,
    "nbgrader": {
     "cell_type": "code",
     "checksum": "f738717abb9bbc962fdf9df16606fcfa",
     "grade": false,
     "grade_id": "cell-70caed0260dd7c0c",
     "locked": false,
     "schema_version": 3,
     "solution": true,
     "task": false
    }
   },
   "outputs": [
    {
     "name": "stdout",
     "output_type": "stream",
     "text": [
      "Number of nodes in the last tree is: 1 with ccp_alpha: 0.15484874295056433\n",
      "     mean_fit_time  std_fit_time  mean_score_time  std_score_time  \\\n",
      "0         0.070391      0.023212         0.003295        0.010900   \n",
      "1         0.067555      0.023934         0.000737        0.000023   \n",
      "2         0.072464      0.021787         0.000725        0.000015   \n",
      "3         0.067478      0.023744         0.003233        0.010907   \n",
      "4         0.069974      0.022945         0.003232        0.010910   \n",
      "..             ...           ...              ...             ...   \n",
      "112       0.070271      0.022994         0.000739        0.000026   \n",
      "113       0.072685      0.021738         0.000744        0.000019   \n",
      "114       0.067555      0.023859         0.000729        0.000029   \n",
      "115       0.072676      0.021804         0.000714        0.000015   \n",
      "116       0.069750      0.022702         0.000715        0.000018   \n",
      "\n",
      "    param_ccp_alpha                                 params  split0_test_score  \\\n",
      "0                 0                     {'ccp_alpha': 0.0}           0.918919   \n",
      "1        0.00013544   {'ccp_alpha': 0.0001354395982388534}           0.925170   \n",
      "2       0.000174192   {'ccp_alpha': 0.0001741917502787069}           0.918919   \n",
      "3       0.000176392  {'ccp_alpha': 0.00017639206712433242}           0.912752   \n",
      "4       0.000181159  {'ccp_alpha': 0.00018115942028985507}           0.911565   \n",
      "..              ...                                    ...                ...   \n",
      "112       0.0142922    {'ccp_alpha': 0.014292240822307622}           0.827586   \n",
      "113       0.0191697    {'ccp_alpha': 0.019169739197618683}           0.763359   \n",
      "114        0.042583    {'ccp_alpha': 0.042582959180562666}           0.763359   \n",
      "115        0.045986     {'ccp_alpha': 0.04598602712819638}           0.715447   \n",
      "116        0.154849     {'ccp_alpha': 0.15484874295056433}           0.000000   \n",
      "\n",
      "     split1_test_score  split2_test_score  split3_test_score  ...  \\\n",
      "0             0.907801           0.893617           0.927152  ...   \n",
      "1             0.909091           0.900000           0.920000  ...   \n",
      "2             0.924138           0.885714           0.920000  ...   \n",
      "3             0.916667           0.885714           0.920000  ...   \n",
      "4             0.909091           0.900000           0.926174  ...   \n",
      "..                 ...                ...                ...  ...   \n",
      "112           0.832117           0.852941           0.868966  ...   \n",
      "113           0.820896           0.855072           0.836879  ...   \n",
      "114           0.661017           0.752000           0.769231  ...   \n",
      "115           0.661017           0.721088           0.758170  ...   \n",
      "116           0.734694           0.721088           0.000000  ...   \n",
      "\n",
      "     split13_test_score  split14_test_score  split15_test_score  \\\n",
      "0              0.907895            0.851064            0.904110   \n",
      "1              0.913907            0.851064            0.905405   \n",
      "2              0.920000            0.851064            0.902778   \n",
      "3              0.913907            0.842857            0.884354   \n",
      "4              0.913907            0.842857            0.884354   \n",
      "..                  ...                 ...                 ...   \n",
      "112            0.833333            0.733813            0.859259   \n",
      "113            0.833333            0.729927            0.824427   \n",
      "114            0.826087            0.707692            0.758065   \n",
      "115            0.766234            0.650000            0.751678   \n",
      "116            0.000000            0.707483            0.000000   \n",
      "\n",
      "     split16_test_score  split17_test_score  split18_test_score  \\\n",
      "0              0.887324            0.878981            0.878378   \n",
      "1              0.868966            0.896104            0.878378   \n",
      "2              0.890411            0.883117            0.870748   \n",
      "3              0.882759            0.875817            0.878378   \n",
      "4              0.873239            0.888889            0.884354   \n",
      "..                  ...                 ...                 ...   \n",
      "112            0.813793            0.800000            0.744526   \n",
      "113            0.772727            0.819444            0.707692   \n",
      "114            0.688525            0.785185            0.707692   \n",
      "115            0.688525            0.768293            0.710526   \n",
      "116            0.729730            0.000000            0.710526   \n",
      "\n",
      "     split19_test_score  mean_test_score  std_test_score  rank_test_score  \n",
      "0              0.890411         0.898845        0.021380               69  \n",
      "1              0.890411         0.899877        0.020406               50  \n",
      "2              0.890411         0.900502        0.022849               35  \n",
      "3              0.890411         0.898809        0.023581               70  \n",
      "4              0.890411         0.899705        0.021988               58  \n",
      "..                  ...              ...             ...              ...  \n",
      "112            0.797101         0.812520        0.033455              113  \n",
      "113            0.797101         0.800184        0.037679              114  \n",
      "114            0.776119         0.743451        0.052063              115  \n",
      "115            0.724409         0.716928        0.040983              116  \n",
      "116            0.740260         0.325143        0.359535              117  \n",
      "\n",
      "[117 rows x 29 columns]\n",
      "[0.89884509 0.8998774  0.90050173 0.89880868 0.8997047  0.89968703\n",
      " 0.89772622 0.89957635 0.90170638 0.89986924 0.90183687 0.90221955\n",
      " 0.89960547 0.89975235 0.89800175 0.90134022 0.90043636 0.90223481\n",
      " 0.90191272 0.90193754 0.90035059 0.90321187 0.89927299 0.90378199\n",
      " 0.9001852  0.89867515 0.90054711 0.90071524 0.90120293 0.89998787\n",
      " 0.90395997 0.90104963 0.89996411 0.90026195 0.89886656 0.90002334\n",
      " 0.89947992 0.89822483 0.90172336 0.89973694 0.90202628 0.90060947\n",
      " 0.89860714 0.90105949 0.90004946 0.8995197  0.8982776  0.8995192\n",
      " 0.89890632 0.90001376 0.89716241 0.90108245 0.89651373 0.9018086\n",
      " 0.90082833 0.90098083 0.89986113 0.90002251 0.899768   0.90020854\n",
      " 0.89647154 0.89976164 0.9004196  0.9005224  0.90123601 0.90218151\n",
      " 0.9028424  0.90126362 0.90137739 0.90011588 0.90084103 0.90275653\n",
      " 0.89869013 0.89977274 0.8974322  0.89683715 0.89577299 0.89676955\n",
      " 0.89757    0.8967378  0.89797049 0.89724084 0.89548494 0.8979661\n",
      " 0.89815329 0.89715934 0.90083244 0.89887256 0.90197992 0.90226739\n",
      " 0.90104574 0.90019367 0.89852977 0.89751633 0.89206641 0.88977172\n",
      " 0.8884063  0.8884063  0.88774976 0.88774976 0.88714962 0.88682447\n",
      " 0.88632663 0.87673752 0.87644615 0.86923523 0.8673111  0.86063808\n",
      " 0.86091958 0.85804168 0.83677503 0.81453029 0.81251961 0.800184\n",
      " 0.74345143 0.71692756 0.32514345]\n",
      "{'ccp_alpha': 0.0013035951495080121}\n"
     ]
    },
    {
     "data": {
      "image/png": "[encoded data removed]",
      "text/plain": [
       "<Figure size 432x288 with 1 Axes>"
      ]
     },
     "metadata": {
      "needs_background": "light"
     },
     "output_type": "display_data"
    }
   ],
   "source": [
    "dt = build_dt(X_train, y_train)\n",
    "\n",
    "path = dt.cost_complexity_pruning_path(X_train,y_train) #post pruning\n",
    "ccp_alphas, impurities = path.ccp_alphas, path.impurities\n",
    "    \n",
    "clfs = [] # VECTOR CONTAINING CLASSIFIERS FOR DIFFERENT ALPHAS\n",
    "#clfs = ccp_alphas\n",
    "# TODO: iterate over ccp_alpha values \n",
    "# your code here\n",
    "from sklearn import tree\n",
    "for x in ccp_alphas:\n",
    "    clfs.append(tree.DecisionTreeClassifier(ccp_alpha=x).fit(X_train, y_train))\n",
    "\n",
    "    \n",
    "print(\"Number of nodes in the last tree is: {} with ccp_alpha: {}\".format(\n",
    "      clfs[-1].tree_.node_count, ccp_alphas[-1]))\n",
    "\n",
    "# TODO: next, generate the train and test scores and plot the variation in these scores with increase in ccp_alpha\n",
    "# The code for plotting has been provided; edit the train_scores and test_scores variables for the right plot to be generated\n",
    "train_scores =[]\n",
    "test_scores = []\n",
    "\n",
    "# your code here\n",
    "# recurso que me ajudou: https://andersonuyekita.github.io/notebooks/blog/2019/03/21/como-usar-o-gridsearchcv/\n",
    "\n",
    "from sklearn import svm, datasets\n",
    "from sklearn.model_selection import GridSearchCV\n",
    "\n",
    "param = {'ccp_alpha':ccp_alphas}\n",
    "\n",
    "from sklearn import tree\n",
    "clf = tree.DecisionTreeClassifier(max_depth=10)\n",
    "\n",
    "grid = GridSearchCV(estimator=clf ,param_grid=param, scoring = 'f1',cv = 20)\n",
    "grid.fit(X_train,y_train)\n",
    "print(pd.DataFrame(grid.cv_results_))\n",
    "train_scores = grid.cv_results_['mean_test_score']\n",
    "print (train_scores)\n",
    "grid.fit(X_test,y_test)\n",
    "test_scores = grid.cv_results_['mean_test_score']\n",
    "print (grid.best_params_)\n",
    "\n",
    "fig, ax = plt.subplots()\n",
    "ax.set_xlabel(\"alpha\")\n",
    "ax.set_ylabel(\"accuracy\")\n",
    "ax.set_title(\"accuracy vs alpha for training and testing sets\")\n",
    "ax.plot(ccp_alphas, train_scores, marker='o', label=\"train\",\n",
    "        drawstyle=\"steps-post\")\n",
    "ax.plot(ccp_alphas, test_scores, marker='o', label=\"test\",\n",
    "        drawstyle=\"steps-post\")\n",
    "ax.legend()\n",
    "plt.show() \n"
   ]
  },
  {
   "cell_type": "code",
   "execution_count": null,
   "metadata": {},
   "outputs": [],
   "source": []
  }
 ],
 "metadata": {
  "kernelspec": {
   "display_name": "Python 3",
   "language": "python",
   "name": "python3"
  },
  "language_info": {
   "codemirror_mode": {
    "name": "ipython",
    "version": 3
   },
   "file_extension": ".py",
   "mimetype": "text/x-python",
   "name": "python",
   "nbconvert_exporter": "python",
   "pygments_lexer": "ipython3",
   "version": "3.7.6"
  }
 },
 "nbformat": 4,
 "nbformat_minor": 4
}
