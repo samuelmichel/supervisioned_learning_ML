{
 "cells": [
  {
   "cell_type": "markdown",
   "metadata": {
    "deletable": false,
    "editable": false,
    "nbgrader": {
     "cell_type": "markdown",
     "checksum": "9d80341db7baace5045a5826cd783d0f",
     "grade": false,
     "grade_id": "cell-0b5b35a96a71be61",
     "locked": true,
     "schema_version": 3,
     "solution": false,
     "task": false
    }
   },
   "source": [
    "### Grading\n",
    "The final score that you will receive for your programming assignment is generated in relation to the total points set in your programming assignment item—not the total point value in the nbgrader notebook.<br>\n",
    "When calculating the final score shown to learners, the programming assignment takes the percentage of earned points vs. the total points provided by nbgrader and returns a score matching the equivalent percentage of the point value for the programming assignment. <br>\n",
    "**DO NOT CHANGE VARIABLE OR METHOD SIGNATURES** The autograder will not work properly if your change the variable or method signatures. "
   ]
  },
  {
   "cell_type": "markdown",
   "metadata": {},
   "source": [
    "### Validate Button\n",
    "Please note that this assignment uses nbgrader to facilitate grading. You will see a **validate button** at the top of your Jupyter notebook. If you hit this button, it will run tests cases for the lab that aren't hidden. It is good to use the validate button before submitting the lab. Do know that the labs in the course contain hidden test cases. The validate button will not let you know whether these test cases pass. After submitting your lab, you can see more information about these hidden test cases in the Grader Output. <br>\n",
    "***Cells with longer execution times will cause the validate button to time out and freeze. Please know that if you run into Validate time-outs, it will not affect the final submission grading.*** <br>"
   ]
  },
  {
   "cell_type": "markdown",
   "metadata": {
    "deletable": false,
    "editable": false,
    "nbgrader": {
     "cell_type": "markdown",
     "checksum": "ce8df33450ff36ea8f60a0dc08b7c917",
     "grade": false,
     "grade_id": "cell-2269ea6b4acb7d83",
     "locked": true,
     "schema_version": 3,
     "solution": false,
     "task": false
    }
   },
   "source": [
    "# Part 1. Data cleaning and Exploratory Data Analysis (EDA)\n",
    "\n",
    "This part will practice data cleaning and Exploratory Data Analysis (EDA) using a house price dataset and mpg dataset.<br>\n",
    "The first dataset is from a Kaggle competition (https://www.kaggle.com/c/house-prices-advanced-regression-techniques/overview), where the task is to predict a house sale price given house features."
   ]
  },
  {
   "cell_type": "code",
   "execution_count": 1,
   "metadata": {
    "deletable": false,
    "editable": false,
    "nbgrader": {
     "cell_type": "code",
     "checksum": "aac7720d21bf941850510343471e6a1b",
     "grade": false,
     "grade_id": "cell-7bcce53519ddd6fc",
     "locked": true,
     "schema_version": 3,
     "solution": false,
     "task": false
    }
   },
   "outputs": [
    {
     "name": "stdout",
     "output_type": "stream",
     "text": [
      "data  Module1.ipynb\r\n"
     ]
    }
   ],
   "source": [
    "!ls"
   ]
  },
  {
   "cell_type": "code",
   "execution_count": 2,
   "metadata": {
    "deletable": false,
    "editable": false,
    "nbgrader": {
     "cell_type": "code",
     "checksum": "224c88fe3018f402a9d0fc9e1f6aa9f1",
     "grade": false,
     "grade_id": "cell-be296cfc3517ca28",
     "locked": true,
     "schema_version": 3,
     "solution": false,
     "task": false
    }
   },
   "outputs": [],
   "source": [
    "import pandas as pd\n",
    "import matplotlib.pyplot as plt\n",
    "import numpy as np\n",
    "import math"
   ]
  },
  {
   "cell_type": "markdown",
   "metadata": {
    "deletable": false,
    "editable": false,
    "nbgrader": {
     "cell_type": "markdown",
     "checksum": "b9d0cea4e9d8310e45416055f34ed591",
     "grade": false,
     "grade_id": "cell-7714e2bdf5952e3f",
     "locked": true,
     "schema_version": 3,
     "solution": false,
     "task": false
    }
   },
   "source": [
    "## 1. Import data and visually inspect the table [9 pts]\n",
    "### 1a) Data import and basic inspection. [5 pts]\n",
    "We can import the csv data using `pd.read_csv()` function. We can use `df.head()` and `df.tail()` to show the first and last 5 entries. `df.iloc[[3,5,7]]` shows the entries corresponding to the index 3,5,7. \n",
    "What is the maximum value of the feature `MSSubClass` among the last 10 entries? Update the value of `maxval` to the correct integer value."
   ]
  },
  {
   "cell_type": "code",
   "execution_count": 3,
   "metadata": {
    "deletable": false,
    "nbgrader": {
     "cell_type": "code",
     "checksum": "3a865611cb735d837742bea8d6b77e2e",
     "grade": false,
     "grade_id": "cell-cb3fee7b585bdbbe",
     "locked": false,
     "schema_version": 3,
     "solution": true,
     "task": false
    }
   },
   "outputs": [
    {
     "name": "stdout",
     "output_type": "stream",
     "text": [
      "        Id  MSSubClass MSZoning  LotFrontage  LotArea Street Alley LotShape  \\\n",
      "1450  1451          90       RL         60.0     9000   Pave   NaN      Reg   \n",
      "1451  1452          20       RL         78.0     9262   Pave   NaN      Reg   \n",
      "1452  1453         180       RM         35.0     3675   Pave   NaN      Reg   \n",
      "1453  1454          20       RL         90.0    17217   Pave   NaN      Reg   \n",
      "1454  1455          20       FV         62.0     7500   Pave  Pave      Reg   \n",
      "1455  1456          60       RL         62.0     7917   Pave   NaN      Reg   \n",
      "1456  1457          20       RL         85.0    13175   Pave   NaN      Reg   \n",
      "1457  1458          70       RL         66.0     9042   Pave   NaN      Reg   \n",
      "1458  1459          20       RL         68.0     9717   Pave   NaN      Reg   \n",
      "1459  1460          20       RL         75.0     9937   Pave   NaN      Reg   \n",
      "\n",
      "     LandContour Utilities  ... PoolArea PoolQC  Fence MiscFeature MiscVal  \\\n",
      "1450         Lvl    AllPub  ...        0    NaN    NaN         NaN       0   \n",
      "1451         Lvl    AllPub  ...        0    NaN    NaN         NaN       0   \n",
      "1452         Lvl    AllPub  ...        0    NaN    NaN         NaN       0   \n",
      "1453         Lvl    AllPub  ...        0    NaN    NaN         NaN       0   \n",
      "1454         Lvl    AllPub  ...        0    NaN    NaN         NaN       0   \n",
      "1455         Lvl    AllPub  ...        0    NaN    NaN         NaN       0   \n",
      "1456         Lvl    AllPub  ...        0    NaN  MnPrv         NaN       0   \n",
      "1457         Lvl    AllPub  ...        0    NaN  GdPrv        Shed    2500   \n",
      "1458         Lvl    AllPub  ...        0    NaN    NaN         NaN       0   \n",
      "1459         Lvl    AllPub  ...        0    NaN    NaN         NaN       0   \n",
      "\n",
      "     MoSold YrSold  SaleType  SaleCondition  SalePrice  \n",
      "1450      9   2009        WD         Normal     136000  \n",
      "1451      5   2009       New        Partial     287090  \n",
      "1452      5   2006        WD         Normal     145000  \n",
      "1453      7   2006        WD        Abnorml      84500  \n",
      "1454     10   2009        WD         Normal     185000  \n",
      "1455      8   2007        WD         Normal     175000  \n",
      "1456      2   2010        WD         Normal     210000  \n",
      "1457      5   2010        WD         Normal     266500  \n",
      "1458      4   2010        WD         Normal     142125  \n",
      "1459      6   2008        WD         Normal     147500  \n",
      "\n",
      "[10 rows x 81 columns]\n",
      "180\n"
     ]
    }
   ],
   "source": [
    "df = pd.read_csv('data/house_data.csv') #it is the same data as the kaggle competition's train.csv.\n",
    "\n",
    "print(df.iloc[[1450,1451,1452,1453,1454,1455,1456,1457,1458,1459]])\n",
    "maxval=180\n",
    "print(maxval)\n"
   ]
  },
  {
   "cell_type": "code",
   "execution_count": 61,
   "metadata": {
    "deletable": false,
    "editable": false,
    "nbgrader": {
     "cell_type": "code",
     "checksum": "9976c00475926306b5361b0524b23b6d",
     "grade": true,
     "grade_id": "cell-db1c05d10186bbee",
     "locked": true,
     "points": 5,
     "schema_version": 3,
     "solution": false,
     "task": false
    }
   },
   "outputs": [],
   "source": [
    "# this cell tests that you correctly updated maxval"
   ]
  },
  {
   "cell_type": "markdown",
   "metadata": {
    "deletable": false,
    "editable": false,
    "nbgrader": {
     "cell_type": "markdown",
     "checksum": "d6e178199083d40592178dc1e07f4876",
     "grade": false,
     "grade_id": "cell-cbb2410b4001a470",
     "locked": true,
     "schema_version": 3,
     "solution": false,
     "task": false
    }
   },
   "source": [
    "### 1b) df.info() gives the overview of the data frame. Inspect the data using df.info() and answer below questions. [4 pts]\n",
    "#### 1b-i) Which column is the target? \n",
    "#### 1b-ii) How many features are in the data? Exclude the target. (Id is not a useful feature, but let's still include)\n",
    "#### 1b-iii) How many observations (samples) are in the data? \n",
    "#### 1b-iv) How many features have null values based on the data overview?"
   ]
  },
  {
   "cell_type": "code",
   "execution_count": 4,
   "metadata": {
    "deletable": false,
    "nbgrader": {
     "cell_type": "code",
     "checksum": "8c144b53d50664eaefbe6f0196317006",
     "grade": false,
     "grade_id": "cell-3522093cb3440da0",
     "locked": false,
     "schema_version": 3,
     "solution": true,
     "task": false
    }
   },
   "outputs": [
    {
     "name": "stdout",
     "output_type": "stream",
     "text": [
      "<class 'pandas.core.frame.DataFrame'>\n",
      "RangeIndex: 1460 entries, 0 to 1459\n",
      "Data columns (total 81 columns):\n",
      " #   Column         Non-Null Count  Dtype  \n",
      "---  ------         --------------  -----  \n",
      " 0   Id             1460 non-null   int64  \n",
      " 1   MSSubClass     1460 non-null   int64  \n",
      " 2   MSZoning       1460 non-null   object \n",
      " 3   LotFrontage    1201 non-null   float64\n",
      " 4   LotArea        1460 non-null   int64  \n",
      " 5   Street         1460 non-null   object \n",
      " 6   Alley          91 non-null     object \n",
      " 7   LotShape       1460 non-null   object \n",
      " 8   LandContour    1460 non-null   object \n",
      " 9   Utilities      1460 non-null   object \n",
      " 10  LotConfig      1460 non-null   object \n",
      " 11  LandSlope      1460 non-null   object \n",
      " 12  Neighborhood   1460 non-null   object \n",
      " 13  Condition1     1460 non-null   object \n",
      " 14  Condition2     1460 non-null   object \n",
      " 15  BldgType       1460 non-null   object \n",
      " 16  HouseStyle     1460 non-null   object \n",
      " 17  OverallQual    1460 non-null   int64  \n",
      " 18  OverallCond    1460 non-null   int64  \n",
      " 19  YearBuilt      1460 non-null   int64  \n",
      " 20  YearRemodAdd   1460 non-null   int64  \n",
      " 21  RoofStyle      1460 non-null   object \n",
      " 22  RoofMatl       1460 non-null   object \n",
      " 23  Exterior1st    1460 non-null   object \n",
      " 24  Exterior2nd    1460 non-null   object \n",
      " 25  MasVnrType     1452 non-null   object \n",
      " 26  MasVnrArea     1452 non-null   float64\n",
      " 27  ExterQual      1460 non-null   object \n",
      " 28  ExterCond      1460 non-null   object \n",
      " 29  Foundation     1460 non-null   object \n",
      " 30  BsmtQual       1423 non-null   object \n",
      " 31  BsmtCond       1423 non-null   object \n",
      " 32  BsmtExposure   1422 non-null   object \n",
      " 33  BsmtFinType1   1423 non-null   object \n",
      " 34  BsmtFinSF1     1460 non-null   int64  \n",
      " 35  BsmtFinType2   1422 non-null   object \n",
      " 36  BsmtFinSF2     1460 non-null   int64  \n",
      " 37  BsmtUnfSF      1460 non-null   int64  \n",
      " 38  TotalBsmtSF    1460 non-null   int64  \n",
      " 39  Heating        1460 non-null   object \n",
      " 40  HeatingQC      1460 non-null   object \n",
      " 41  CentralAir     1460 non-null   object \n",
      " 42  Electrical     1459 non-null   object \n",
      " 43  1stFlrSF       1460 non-null   int64  \n",
      " 44  2ndFlrSF       1460 non-null   int64  \n",
      " 45  LowQualFinSF   1460 non-null   int64  \n",
      " 46  GrLivArea      1460 non-null   int64  \n",
      " 47  BsmtFullBath   1460 non-null   int64  \n",
      " 48  BsmtHalfBath   1460 non-null   int64  \n",
      " 49  FullBath       1460 non-null   int64  \n",
      " 50  HalfBath       1460 non-null   int64  \n",
      " 51  BedroomAbvGr   1460 non-null   int64  \n",
      " 52  KitchenAbvGr   1460 non-null   int64  \n",
      " 53  KitchenQual    1460 non-null   object \n",
      " 54  TotRmsAbvGrd   1460 non-null   int64  \n",
      " 55  Functional     1460 non-null   object \n",
      " 56  Fireplaces     1460 non-null   int64  \n",
      " 57  FireplaceQu    770 non-null    object \n",
      " 58  GarageType     1379 non-null   object \n",
      " 59  GarageYrBlt    1379 non-null   float64\n",
      " 60  GarageFinish   1379 non-null   object \n",
      " 61  GarageCars     1460 non-null   int64  \n",
      " 62  GarageArea     1460 non-null   int64  \n",
      " 63  GarageQual     1379 non-null   object \n",
      " 64  GarageCond     1379 non-null   object \n",
      " 65  PavedDrive     1460 non-null   object \n",
      " 66  WoodDeckSF     1460 non-null   int64  \n",
      " 67  OpenPorchSF    1460 non-null   int64  \n",
      " 68  EnclosedPorch  1460 non-null   int64  \n",
      " 69  3SsnPorch      1460 non-null   int64  \n",
      " 70  ScreenPorch    1460 non-null   int64  \n",
      " 71  PoolArea       1460 non-null   int64  \n",
      " 72  PoolQC         7 non-null      object \n",
      " 73  Fence          281 non-null    object \n",
      " 74  MiscFeature    54 non-null     object \n",
      " 75  MiscVal        1460 non-null   int64  \n",
      " 76  MoSold         1460 non-null   int64  \n",
      " 77  YrSold         1460 non-null   int64  \n",
      " 78  SaleType       1460 non-null   object \n",
      " 79  SaleCondition  1460 non-null   object \n",
      " 80  SalePrice      1460 non-null   int64  \n",
      "dtypes: float64(3), int64(35), object(43)\n",
      "memory usage: 924.0+ KB\n"
     ]
    }
   ],
   "source": [
    "df.info()\n",
    "\n",
    "\n",
    "# uncomment and update to the correct string value\n",
    "# copy directly from the uneditd df column name (e.g., 'LandContour')\n",
    "ANS_1b1 = 'SalePrice' \n",
    "# uncomment and update to the correct integer value\n",
    "ANS_1b2 = 80\n",
    "# uncomment and update to the correct integer value\n",
    "ANS_1b3 = 1460\n",
    "# uncomment and update to the correct integer value \n",
    "ANS_1b4 = 19 "
   ]
  },
  {
   "cell_type": "code",
   "execution_count": 8,
   "metadata": {
    "deletable": false,
    "editable": false,
    "nbgrader": {
     "cell_type": "code",
     "checksum": "a87e88b6f3ad3d7377dc01dd9c41d81b",
     "grade": true,
     "grade_id": "cell-7ac0bd360d9fc2a7",
     "locked": true,
     "points": 4,
     "schema_version": 3,
     "solution": false,
     "task": false
    }
   },
   "outputs": [],
   "source": [
    "# this cell will test your solutions to the four questions above"
   ]
  },
  {
   "cell_type": "markdown",
   "metadata": {
    "deletable": false,
    "editable": false,
    "nbgrader": {
     "cell_type": "markdown",
     "checksum": "8c2b43a20aecebec94d793423f67d7a0",
     "grade": false,
     "grade_id": "cell-2c74538cd1d26fde",
     "locked": true,
     "schema_version": 3,
     "solution": false,
     "task": false
    }
   },
   "source": [
    "## 2. Inspect Null values [16 pts]\n",
    "The empty values in the data are called null values. Null values can take different forms.\n",
    "Have a look at below example. `np.nan` and `None` are native null values in python. They get displayed differently in the pandas dataframe (`pd.DataFrame`) though. But there are other data types such as empty list, empty dictionary, etc and string values that literally says \"null\" or that are empty spaces.\n",
    "Depending on how messy the data is, sometimes the table may have null values of one or more kinds, and those can be cleaned manually or automatically if you can write a code to include all possible cases which meanings are null values. "
   ]
  },
  {
   "cell_type": "code",
   "execution_count": 6,
   "metadata": {
    "deletable": false,
    "editable": false,
    "nbgrader": {
     "cell_type": "code",
     "checksum": "37a978e00423711d669cd22162d8945d",
     "grade": false,
     "grade_id": "cell-fd7633f1ff343c36",
     "locked": true,
     "schema_version": 3,
     "solution": false,
     "task": false
    }
   },
   "outputs": [
    {
     "data": {
      "text/html": [
       "<div>\n",
       "<style scoped>\n",
       "    .dataframe tbody tr th:only-of-type {\n",
       "        vertical-align: middle;\n",
       "    }\n",
       "\n",
       "    .dataframe tbody tr th {\n",
       "        vertical-align: top;\n",
       "    }\n",
       "\n",
       "    .dataframe thead th {\n",
       "        text-align: right;\n",
       "    }\n",
       "</style>\n",
       "<table border=\"1\" class=\"dataframe\">\n",
       "  <thead>\n",
       "    <tr style=\"text-align: right;\">\n",
       "      <th></th>\n",
       "      <th>0</th>\n",
       "    </tr>\n",
       "  </thead>\n",
       "  <tbody>\n",
       "    <tr>\n",
       "      <th>0</th>\n",
       "      <td>NaN</td>\n",
       "    </tr>\n",
       "    <tr>\n",
       "      <th>1</th>\n",
       "      <td>None</td>\n",
       "    </tr>\n",
       "    <tr>\n",
       "      <th>2</th>\n",
       "      <td>[]</td>\n",
       "    </tr>\n",
       "    <tr>\n",
       "      <th>3</th>\n",
       "      <td>{}</td>\n",
       "    </tr>\n",
       "    <tr>\n",
       "      <th>4</th>\n",
       "      <td>NaN</td>\n",
       "    </tr>\n",
       "    <tr>\n",
       "      <th>5</th>\n",
       "      <td>Null</td>\n",
       "    </tr>\n",
       "    <tr>\n",
       "      <th>6</th>\n",
       "      <td>NULL</td>\n",
       "    </tr>\n",
       "    <tr>\n",
       "      <th>7</th>\n",
       "      <td>None</td>\n",
       "    </tr>\n",
       "    <tr>\n",
       "      <th>8</th>\n",
       "      <td>NA</td>\n",
       "    </tr>\n",
       "    <tr>\n",
       "      <th>9</th>\n",
       "      <td>?</td>\n",
       "    </tr>\n",
       "    <tr>\n",
       "      <th>10</th>\n",
       "      <td>-</td>\n",
       "    </tr>\n",
       "    <tr>\n",
       "      <th>11</th>\n",
       "      <td>.</td>\n",
       "    </tr>\n",
       "    <tr>\n",
       "      <th>12</th>\n",
       "      <td></td>\n",
       "    </tr>\n",
       "    <tr>\n",
       "      <th>13</th>\n",
       "      <td></td>\n",
       "    </tr>\n",
       "    <tr>\n",
       "      <th>14</th>\n",
       "      <td></td>\n",
       "    </tr>\n",
       "  </tbody>\n",
       "</table>\n",
       "</div>"
      ],
      "text/plain": [
       "       0\n",
       "0    NaN\n",
       "1   None\n",
       "2     []\n",
       "3     {}\n",
       "4    NaN\n",
       "5   Null\n",
       "6   NULL\n",
       "7   None\n",
       "8     NA\n",
       "9      ?\n",
       "10     -\n",
       "11     .\n",
       "12      \n",
       "13      \n",
       "14      "
      ]
     },
     "execution_count": 6,
     "metadata": {},
     "output_type": "execute_result"
    }
   ],
   "source": [
    "a = [np.nan, None, [], {}, 'NaN', 'Null','NULL','None','NA','?','-', '.','', ' ', '   ']\n",
    "nulldemo = pd.DataFrame(a)\n",
    "nulldemo"
   ]
  },
  {
   "cell_type": "markdown",
   "metadata": {
    "deletable": false,
    "editable": false,
    "nbgrader": {
     "cell_type": "markdown",
     "checksum": "4e3fa8647e5bf3ac72ae4f5664a50955",
     "grade": false,
     "grade_id": "cell-4aaf5e4be60651bb",
     "locked": true,
     "schema_version": 3,
     "solution": false,
     "task": false
    }
   },
   "source": [
    "`.isnull()` method applied to pandas dataframe or series can detect null values. `.dropna()` method in pandas will detect null values and can be specified to drop either rows or columns that contain null values. Below shows that `.isnull()` only detects the python-native null values and cannot detect other forms (string value) of variables that meant null."
   ]
  },
  {
   "cell_type": "code",
   "execution_count": 7,
   "metadata": {
    "deletable": false,
    "editable": false,
    "nbgrader": {
     "cell_type": "code",
     "checksum": "500eaa2e262bba4c183501354ee38232",
     "grade": false,
     "grade_id": "cell-55ce28863f9058c7",
     "locked": true,
     "schema_version": 3,
     "solution": false,
     "task": false
    }
   },
   "outputs": [
    {
     "data": {
      "text/html": [
       "<div>\n",
       "<style scoped>\n",
       "    .dataframe tbody tr th:only-of-type {\n",
       "        vertical-align: middle;\n",
       "    }\n",
       "\n",
       "    .dataframe tbody tr th {\n",
       "        vertical-align: top;\n",
       "    }\n",
       "\n",
       "    .dataframe thead th {\n",
       "        text-align: right;\n",
       "    }\n",
       "</style>\n",
       "<table border=\"1\" class=\"dataframe\">\n",
       "  <thead>\n",
       "    <tr style=\"text-align: right;\">\n",
       "      <th></th>\n",
       "      <th>0</th>\n",
       "    </tr>\n",
       "  </thead>\n",
       "  <tbody>\n",
       "    <tr>\n",
       "      <th>0</th>\n",
       "      <td>True</td>\n",
       "    </tr>\n",
       "    <tr>\n",
       "      <th>1</th>\n",
       "      <td>True</td>\n",
       "    </tr>\n",
       "    <tr>\n",
       "      <th>2</th>\n",
       "      <td>False</td>\n",
       "    </tr>\n",
       "    <tr>\n",
       "      <th>3</th>\n",
       "      <td>False</td>\n",
       "    </tr>\n",
       "    <tr>\n",
       "      <th>4</th>\n",
       "      <td>False</td>\n",
       "    </tr>\n",
       "    <tr>\n",
       "      <th>5</th>\n",
       "      <td>False</td>\n",
       "    </tr>\n",
       "    <tr>\n",
       "      <th>6</th>\n",
       "      <td>False</td>\n",
       "    </tr>\n",
       "    <tr>\n",
       "      <th>7</th>\n",
       "      <td>False</td>\n",
       "    </tr>\n",
       "    <tr>\n",
       "      <th>8</th>\n",
       "      <td>False</td>\n",
       "    </tr>\n",
       "    <tr>\n",
       "      <th>9</th>\n",
       "      <td>False</td>\n",
       "    </tr>\n",
       "    <tr>\n",
       "      <th>10</th>\n",
       "      <td>False</td>\n",
       "    </tr>\n",
       "    <tr>\n",
       "      <th>11</th>\n",
       "      <td>False</td>\n",
       "    </tr>\n",
       "    <tr>\n",
       "      <th>12</th>\n",
       "      <td>False</td>\n",
       "    </tr>\n",
       "    <tr>\n",
       "      <th>13</th>\n",
       "      <td>False</td>\n",
       "    </tr>\n",
       "    <tr>\n",
       "      <th>14</th>\n",
       "      <td>False</td>\n",
       "    </tr>\n",
       "  </tbody>\n",
       "</table>\n",
       "</div>"
      ],
      "text/plain": [
       "        0\n",
       "0    True\n",
       "1    True\n",
       "2   False\n",
       "3   False\n",
       "4   False\n",
       "5   False\n",
       "6   False\n",
       "7   False\n",
       "8   False\n",
       "9   False\n",
       "10  False\n",
       "11  False\n",
       "12  False\n",
       "13  False\n",
       "14  False"
      ]
     },
     "execution_count": 7,
     "metadata": {},
     "output_type": "execute_result"
    }
   ],
   "source": [
    "nulldemo.isnull()"
   ]
  },
  {
   "cell_type": "markdown",
   "metadata": {
    "deletable": false,
    "editable": false,
    "nbgrader": {
     "cell_type": "markdown",
     "checksum": "d8208f611fd1787ad8966ef5c0f9fcaa",
     "grade": false,
     "grade_id": "cell-7b3e462ec41ac482",
     "locked": true,
     "schema_version": 3,
     "solution": false,
     "task": false
    }
   },
   "source": [
    "Also, sometimes the python-native null values can have an odd data type such as numpy float. "
   ]
  },
  {
   "cell_type": "code",
   "execution_count": 8,
   "metadata": {
    "deletable": false,
    "editable": false,
    "nbgrader": {
     "cell_type": "code",
     "checksum": "5d5b4a35a64c4ef0213c130ef2bff6a5",
     "grade": false,
     "grade_id": "cell-c2d9834dfe085a8a",
     "locked": true,
     "schema_version": 3,
     "solution": false,
     "task": false
    }
   },
   "outputs": [
    {
     "name": "stdout",
     "output_type": "stream",
     "text": [
      "nan float64 <class 'numpy.float64'>\n",
      "True\n",
      "True\n",
      "True\n",
      "False\n",
      "False\n"
     ]
    }
   ],
   "source": [
    "print(df['MasVnrArea'].iloc[234], df['MasVnrArea'].iloc[234].dtype, type(df['MasVnrArea'].iloc[234]))\n",
    "print(df['MasVnrArea'].isnull().iloc[234])\n",
    "print(np.isnan(df['MasVnrArea'].iloc[234])) \n",
    "print(math.isnan(df['MasVnrArea'].iloc[234]))\n",
    "print(df['MasVnrArea'].iloc[234]==np.nan)\n",
    "print(df['MasVnrArea'].iloc[234]==np.float64(np.nan))"
   ]
  },
  {
   "cell_type": "markdown",
   "metadata": {
    "deletable": false,
    "editable": false,
    "nbgrader": {
     "cell_type": "markdown",
     "checksum": "4551c525ba615d3ba7708b262efd8f84",
     "grade": false,
     "grade_id": "cell-8f2e347fb71d0786",
     "locked": true,
     "schema_version": 3,
     "solution": false,
     "task": false
    }
   },
   "source": [
    "np.isnan() and math.isnan() can detect the nan values with numpy float type, but they will cause errors with native `None` or a string value. Uncomment one of below (one at a time) and run. You'll see error messages."
   ]
  },
  {
   "cell_type": "code",
   "execution_count": 12,
   "metadata": {
    "deletable": false,
    "nbgrader": {
     "cell_type": "code",
     "checksum": "5de92f8d9e6de1f77655c03ab01fa212",
     "grade": false,
     "grade_id": "cell-f667da7b22e3108f",
     "locked": false,
     "schema_version": 3,
     "solution": true,
     "task": false
    }
   },
   "outputs": [],
   "source": [
    "# your code here\n",
    "\n",
    "\n",
    "# print(np.isnan(None))\n",
    "# print(np.isnan('None'))\n",
    "# print(math.isnan(None))\n",
    "# print(math.isnan('None'))"
   ]
  },
  {
   "cell_type": "markdown",
   "metadata": {
    "deletable": false,
    "editable": false,
    "nbgrader": {
     "cell_type": "markdown",
     "checksum": "18303930f8985b16e35d5dea35b09ed0",
     "grade": false,
     "grade_id": "cell-3ef55c38761403b9",
     "locked": true,
     "schema_version": 3,
     "solution": false,
     "task": false
    }
   },
   "source": [
    "### 2a) Check null values type [5 pts]\n",
    "Let's check if our data has clean null values (one kind) or messy null values (multiple different representations). Run the codes below and visually inspect the printed results. Which column has string-typed null/none values and how many elements are string-typed null/none values?"
   ]
  },
  {
   "cell_type": "code",
   "execution_count": 9,
   "metadata": {
    "deletable": false,
    "editable": false,
    "nbgrader": {
     "cell_type": "code",
     "checksum": "d0e3ae50ea98f5c4f99dece0bae5bd21",
     "grade": false,
     "grade_id": "cell-a40d26bd98654b9b",
     "locked": true,
     "schema_version": 3,
     "solution": false,
     "task": false
    }
   },
   "outputs": [
    {
     "name": "stdout",
     "output_type": "stream",
     "text": [
      "Id 0 0\n",
      "MSSubClass 0 0\n",
      "MSZoning 0 0\n",
      "LotFrontage 259 0\n",
      "LotArea 0 0\n",
      "Street 0 0\n",
      "Alley 1369 0\n",
      "LotShape 0 0\n",
      "LandContour 0 0\n",
      "Utilities 0 0\n",
      "LotConfig 0 0\n",
      "LandSlope 0 0\n",
      "Neighborhood 0 0\n",
      "Condition1 0 0\n",
      "Condition2 0 0\n",
      "BldgType 0 0\n",
      "HouseStyle 0 0\n",
      "OverallQual 0 0\n",
      "OverallCond 0 0\n",
      "YearBuilt 0 0\n",
      "YearRemodAdd 0 0\n",
      "RoofStyle 0 0\n",
      "RoofMatl 0 0\n",
      "Exterior1st 0 0\n",
      "Exterior2nd 0 0\n",
      "MasVnrType 8 864\n",
      "MasVnrArea 8 0\n",
      "ExterQual 0 0\n",
      "ExterCond 0 0\n",
      "Foundation 0 0\n",
      "BsmtQual 37 0\n",
      "BsmtCond 37 0\n",
      "BsmtExposure 38 0\n",
      "BsmtFinType1 37 0\n",
      "BsmtFinSF1 0 0\n",
      "BsmtFinType2 38 0\n",
      "BsmtFinSF2 0 0\n",
      "BsmtUnfSF 0 0\n",
      "TotalBsmtSF 0 0\n",
      "Heating 0 0\n",
      "HeatingQC 0 0\n",
      "CentralAir 0 0\n",
      "Electrical 1 0\n",
      "1stFlrSF 0 0\n",
      "2ndFlrSF 0 0\n",
      "LowQualFinSF 0 0\n",
      "GrLivArea 0 0\n",
      "BsmtFullBath 0 0\n",
      "BsmtHalfBath 0 0\n",
      "FullBath 0 0\n",
      "HalfBath 0 0\n",
      "BedroomAbvGr 0 0\n",
      "KitchenAbvGr 0 0\n",
      "KitchenQual 0 0\n",
      "TotRmsAbvGrd 0 0\n",
      "Functional 0 0\n",
      "Fireplaces 0 0\n",
      "FireplaceQu 690 0\n",
      "GarageType 81 0\n",
      "GarageYrBlt 81 0\n",
      "GarageFinish 81 0\n",
      "GarageCars 0 0\n",
      "GarageArea 0 0\n",
      "GarageQual 81 0\n",
      "GarageCond 81 0\n",
      "PavedDrive 0 0\n",
      "WoodDeckSF 0 0\n",
      "OpenPorchSF 0 0\n",
      "EnclosedPorch 0 0\n",
      "3SsnPorch 0 0\n",
      "ScreenPorch 0 0\n",
      "PoolArea 0 0\n",
      "PoolQC 1453 0\n",
      "Fence 1179 0\n",
      "MiscFeature 1406 0\n",
      "MiscVal 0 0\n",
      "MoSold 0 0\n",
      "YrSold 0 0\n",
      "SaleType 0 0\n",
      "SaleCondition 0 0\n",
      "SalePrice 0 0\n"
     ]
    }
   ],
   "source": [
    "# prints number of null values detected by .isnull() and string none\n",
    "for c in df.columns:\n",
    "    string_null = np.array([x in a[2:] for x in df[c]])\n",
    "    print(c, df[c].isnull().sum(), string_null.sum()) "
   ]
  },
  {
   "cell_type": "markdown",
   "metadata": {
    "deletable": false,
    "editable": false,
    "nbgrader": {
     "cell_type": "markdown",
     "checksum": "3e2d7f06320fd6252cea08b30c289104",
     "grade": false,
     "grade_id": "cell-d07930006ff0e3a8",
     "locked": true,
     "schema_version": 3,
     "solution": false,
     "task": false
    }
   },
   "source": [
    "Which column has string-typed null/none values? "
   ]
  },
  {
   "cell_type": "code",
   "execution_count": 10,
   "metadata": {
    "deletable": false,
    "nbgrader": {
     "cell_type": "code",
     "checksum": "0b5e24f7f6ddcada46ac3ddfa0eebdb1",
     "grade": false,
     "grade_id": "cell-584c0338abbd45f8",
     "locked": false,
     "schema_version": 3,
     "solution": true,
     "task": false
    }
   },
   "outputs": [],
   "source": [
    "# your code here\n",
    "\n",
    "# uncomment and update to the correct string value\n",
    "col = 'MasVnrType'"
   ]
  },
  {
   "cell_type": "markdown",
   "metadata": {
    "deletable": false,
    "editable": false,
    "nbgrader": {
     "cell_type": "markdown",
     "checksum": "97d0d0af16dbe7cf5fed18936f349965",
     "grade": false,
     "grade_id": "cell-fa00937941485363",
     "locked": true,
     "schema_version": 3,
     "solution": false,
     "task": false
    }
   },
   "source": [
    "How many elements are string-typed null/none values?"
   ]
  },
  {
   "cell_type": "code",
   "execution_count": 11,
   "metadata": {
    "deletable": false,
    "nbgrader": {
     "cell_type": "code",
     "checksum": "37741cd100f1c8831f078c1308d56b42",
     "grade": false,
     "grade_id": "cell-a53c8dc23ac393d6",
     "locked": false,
     "schema_version": 3,
     "solution": true,
     "task": false
    }
   },
   "outputs": [],
   "source": [
    "# your code here\n",
    "\n",
    "# uncomment and update to the correct string value\n",
    "string_null_count = 864"
   ]
  },
  {
   "cell_type": "code",
   "execution_count": 16,
   "metadata": {
    "deletable": false,
    "editable": false,
    "nbgrader": {
     "cell_type": "code",
     "checksum": "9866646b79d79c952b8dca25f05f2add",
     "grade": true,
     "grade_id": "cell-dce6d5bd3d2c3fa5",
     "locked": true,
     "points": 5,
     "schema_version": 3,
     "solution": false,
     "task": false
    }
   },
   "outputs": [],
   "source": [
    "# this cell will test your answer about the column with string-typed null/none values\n",
    "# and the number of string-typed null/none values"
   ]
  },
  {
   "cell_type": "markdown",
   "metadata": {
    "deletable": false,
    "editable": false,
    "nbgrader": {
     "cell_type": "markdown",
     "checksum": "5a2126c265abee059ef01af2e883bcff",
     "grade": false,
     "grade_id": "cell-42f5ae89bca3b8ed",
     "locked": true,
     "schema_version": 3,
     "solution": false,
     "task": false
    }
   },
   "source": [
    "### 2b) Inspect observations (rows) with null values. How many observations have at least one missing value? [5 pts]"
   ]
  },
  {
   "cell_type": "code",
   "execution_count": 12,
   "metadata": {
    "deletable": false,
    "nbgrader": {
     "cell_type": "code",
     "checksum": "0c929bf86ad7b3e2e6fd5b2a09565153",
     "grade": false,
     "grade_id": "cell-583168388460d97e",
     "locked": false,
     "schema_version": 3,
     "solution": true,
     "task": false
    }
   },
   "outputs": [],
   "source": [
    "# your code here\n",
    "\n",
    "\n",
    "# uncomment and update to the correct integer value\n",
    "rows_with_nulls = 1460"
   ]
  },
  {
   "cell_type": "code",
   "execution_count": 18,
   "metadata": {
    "deletable": false,
    "editable": false,
    "nbgrader": {
     "cell_type": "code",
     "checksum": "5dfe677f9d2e75aaf2cfb395290c552c",
     "grade": true,
     "grade_id": "cell-5e23e1b0cca76fd6",
     "locked": true,
     "points": 5,
     "schema_version": 3,
     "solution": false,
     "task": false
    }
   },
   "outputs": [],
   "source": [
    "# this cell will test your answer about the number of rows with null values"
   ]
  },
  {
   "cell_type": "markdown",
   "metadata": {
    "deletable": false,
    "editable": false,
    "nbgrader": {
     "cell_type": "markdown",
     "checksum": "11e69f21895b746ac14afcbbd1d46cc1",
     "grade": false,
     "grade_id": "cell-77d2e86ca5e292b2",
     "locked": true,
     "schema_version": 3,
     "solution": false,
     "task": false
    }
   },
   "source": [
    "### 2c) Make a histogram of null counts [6 pts]\n",
    "+ The ***histogram x-axis*** is the null value count range. Please use bins with width = 50 (e.g. bins are [0,50,100, ...,1550])\n",
    "+ The ***histogram y-axis*** is the count of features with the number of null values within the histogram bin range. For example, if 10 feature columns have numbers of null values between 0 and 50, then the first box's y-value is 10 in the plot. <br>\n",
    "\n",
    "**Hint**: matplotlib library has a function .hist that can plot histograms"
   ]
  },
  {
   "cell_type": "code",
   "execution_count": 13,
   "metadata": {
    "deletable": false,
    "nbgrader": {
     "cell_type": "code",
     "checksum": "fcc9a9ea3f15ffba560033b6a9d867cd",
     "grade": false,
     "grade_id": "cell-397bc70fa5b6e142",
     "locked": false,
     "schema_version": 3,
     "solution": true,
     "task": false
    }
   },
   "outputs": [
    {
     "name": "stdout",
     "output_type": "stream",
     "text": [
      "Id                 0\n",
      "MSSubClass         0\n",
      "MSZoning           0\n",
      "LotFrontage      259\n",
      "LotArea            0\n",
      "                ... \n",
      "MoSold             0\n",
      "YrSold             0\n",
      "SaleType           0\n",
      "SaleCondition      0\n",
      "SalePrice          0\n",
      "Length: 81, dtype: int64\n"
     ]
    },
    {
     "data": {
      "image/png": "[encoded data removed]",
      "text/plain": [
       "<Figure size 432x288 with 1 Axes>"
      ]
     },
     "metadata": {
      "needs_background": "light"
     },
     "output_type": "display_data"
    }
   ],
   "source": [
    "# your code here\n",
    "\n",
    "# Please uncomment and update\n",
    "# do not change the names of the variables from null_counts and histogram\n",
    "null_counts=pd.Series([])\n",
    "#for c in df.columns:\n",
    "    #string_null = np.array([x in a[2:] for x in df[c]])\n",
    "    #null_counts[c]=df[c].isnull().sum()# + string_null.sum()\n",
    "null_counts = df.isnull().sum(axis=0)\n",
    "\n",
    "print(null_counts)\n",
    "\n",
    "histogram = plt.hist(null_counts, bins=np.arange(0,1550,50))# replace the histogram to be the plt.hist() object.\n",
    "# Hint: Use .isnull() and sum over True values on columns.\n",
    "# You can make it as short as 2-3 lines of code\n"
   ]
  },
  {
   "cell_type": "code",
   "execution_count": 91,
   "metadata": {
    "deletable": false,
    "editable": false,
    "nbgrader": {
     "cell_type": "code",
     "checksum": "d37296bfc5a5b719cde94bffb0700843",
     "grade": true,
     "grade_id": "cell-1227cde34a107169",
     "locked": true,
     "points": 3,
     "schema_version": 3,
     "solution": false,
     "task": false
    }
   },
   "outputs": [],
   "source": [
    "# hidden test 1; tests null_counts\n"
   ]
  },
  {
   "cell_type": "code",
   "execution_count": 92,
   "metadata": {
    "deletable": false,
    "editable": false,
    "nbgrader": {
     "cell_type": "code",
     "checksum": "a80f7b0a9192570523ae623a71382665",
     "grade": true,
     "grade_id": "cell-47db4d8d4a9b3d99",
     "locked": true,
     "points": 3,
     "schema_version": 3,
     "solution": false,
     "task": false
    }
   },
   "outputs": [],
   "source": [
    "# hidden test 2; tests histogram"
   ]
  },
  {
   "cell_type": "markdown",
   "metadata": {
    "deletable": false,
    "editable": false,
    "nbgrader": {
     "cell_type": "markdown",
     "checksum": "88f23f4ed8278234ef6be3b83373c6b8",
     "grade": false,
     "grade_id": "cell-f79e729452eb49a9",
     "locked": true,
     "schema_version": 3,
     "solution": false,
     "task": false
    }
   },
   "source": [
    "## 3. Imputing missing values [33 pts]\n",
    "\n",
    "In this part, we will decide methods to clean the data with missing values.    \n",
    "\n",
    "Complete case analysis (CCA) is to drop any observations (rows) that have null values. It is suitable if the number of observations with null values are very small (say, less than 5%) compared to the total number of observations.  \n",
    "\n",
    "If the data has a large number of features (columns) and the model(s) does not need that many features (some models work better with less number of features), we can consider dropping features that have many missing values. Before dropping features, it is generally a good idea checking whether the feature with missing values is important feature or not (which may need the analyst's judgement). If the feature is very important for the prediction task (for example, a house size when predicting house price) but has a large amount of missing values, we cannot simply drop the feature, or in a rare case, it could mean that the data is not suitable for the analysis. One will have to work with only the observations that has values on that feature given the number of observations is sufficient, or collect more data. If we know that those features are not very important and have a large number of missing values, we can drop the features. As a rule of thumb, features with missing values more than either 5% or 10% can be dropped."
   ]
  },
  {
   "cell_type": "markdown",
   "metadata": {
    "deletable": false,
    "editable": false,
    "nbgrader": {
     "cell_type": "markdown",
     "checksum": "83fb2629ca41edfbcaec688790d9374a",
     "grade": false,
     "grade_id": "cell-ff5b47f4fe830116",
     "locked": true,
     "schema_version": 3,
     "solution": false,
     "task": false
    }
   },
   "source": [
    "### 3a) Is the data suitable for complete case analysis or not? [5 pts]"
   ]
  },
  {
   "cell_type": "code",
   "execution_count": 93,
   "metadata": {
    "deletable": false,
    "nbgrader": {
     "cell_type": "code",
     "checksum": "61ad79cc50b7a8d8d76c2527812c07d0",
     "grade": false,
     "grade_id": "cell-9660a54734798c9f",
     "locked": false,
     "schema_version": 3,
     "solution": true,
     "task": false
    }
   },
   "outputs": [],
   "source": [
    "# your code here\n",
    "\n",
    "\n",
    "# uncomment and update to string 'no' or 'yes'\n",
    "suitable_cca = 'no'"
   ]
  },
  {
   "cell_type": "code",
   "execution_count": 94,
   "metadata": {
    "deletable": false,
    "editable": false,
    "nbgrader": {
     "cell_type": "code",
     "checksum": "b3fd7736e8eb717094af17a594f91477",
     "grade": true,
     "grade_id": "cell-596e41e829fd93c0",
     "locked": true,
     "points": 5,
     "schema_version": 3,
     "solution": false,
     "task": false
    }
   },
   "outputs": [],
   "source": [
    "# tests solution for whether data is suitable for CCA"
   ]
  },
  {
   "cell_type": "markdown",
   "metadata": {
    "deletable": false,
    "editable": false,
    "nbgrader": {
     "cell_type": "markdown",
     "checksum": "ec734f98135bef44c6fc62df831a248d",
     "grade": false,
     "grade_id": "cell-0e3d217af51ab25a",
     "locked": true,
     "schema_version": 3,
     "solution": false,
     "task": false
    }
   },
   "source": [
    "### 3b) Dropping feature columns [20 pts]\n",
    "**Imputation** is the process of replacing missing data with substituted values. Let's assume we want to keep columns where 5% or less of the values are null (***keep and impute***) and discard any column where more than 5% of the values are null (***throw***). Treat the string type \"None\" as a category and not a null value.\n",
    "\n",
    "#### 3b-i) According to above condition, how many features can be kept and imputed? [5 pts]\n",
    "#### 3b-ii) Which columns have null values 5% or less of total, so we can impute? [5 pts] \n",
    "#### 3b-iii) Which columns have null vaues more than 5% of total, so we should throw? [5 pts]"
   ]
  },
  {
   "cell_type": "code",
   "execution_count": 95,
   "metadata": {
    "deletable": false,
    "nbgrader": {
     "cell_type": "code",
     "checksum": "3c110c72b8d95755f227c773c3266cb0",
     "grade": false,
     "grade_id": "cell-372f8f3eaee8295e",
     "locked": false,
     "schema_version": 3,
     "solution": true,
     "task": false
    }
   },
   "outputs": [
    {
     "name": "stdout",
     "output_type": "stream",
     "text": [
      "8 ['MasVnrType', 'MasVnrArea', 'BsmtQual', 'BsmtCond', 'BsmtExposure', 'BsmtFinType1', 'BsmtFinType2', 'Electrical']\n",
      "11 ['LotFrontage', 'Alley', 'FireplaceQu', 'GarageType', 'GarageYrBlt', 'GarageFinish', 'GarageQual', 'GarageCond', 'PoolQC', 'Fence', 'MiscFeature']\n"
     ]
    }
   ],
   "source": [
    "# your code here\n",
    "# Complete the codes below by uncommenting and changing the values of features_to_impute and features_to_throw. \n",
    "# Each should be a list of feature names (e.g. ['LotFrontage','Alley',...]). Do not change the variable names. \n",
    "# There are hidden tests which will grade above three questions.\n",
    "\n",
    "features_to_impute =['MasVnrType','MasVnrArea','BsmtQual','BsmtCond','BsmtExposure','BsmtFinType1','BsmtFinType2','Electrical']\n",
    "features_to_throw = ['LotFrontage','Alley','FireplaceQu','GarageType','GarageYrBlt','GarageFinish','GarageQual','GarageCond','PoolQC','Fence','MiscFeature']\n",
    "print(len(features_to_impute), features_to_impute)\n",
    "print(len(features_to_throw), features_to_throw)"
   ]
  },
  {
   "cell_type": "code",
   "execution_count": 96,
   "metadata": {
    "deletable": false,
    "editable": false,
    "nbgrader": {
     "cell_type": "code",
     "checksum": "1f8462fb0a619a99fd81b8cec7d3f1d0",
     "grade": true,
     "grade_id": "cell-eebd5d9ed1f05b19",
     "locked": true,
     "points": 5,
     "schema_version": 3,
     "solution": false,
     "task": false
    }
   },
   "outputs": [],
   "source": [
    "# Hidden test for 3b-i"
   ]
  },
  {
   "cell_type": "code",
   "execution_count": 97,
   "metadata": {
    "deletable": false,
    "editable": false,
    "nbgrader": {
     "cell_type": "code",
     "checksum": "9c0fe0f40b40878be1f837edbbb780c3",
     "grade": true,
     "grade_id": "cell-5f5faeb0cae30c87",
     "locked": true,
     "points": 5,
     "schema_version": 3,
     "solution": false,
     "task": false
    }
   },
   "outputs": [],
   "source": [
    "# Hidden test for 3b-ii"
   ]
  },
  {
   "cell_type": "code",
   "execution_count": 98,
   "metadata": {
    "deletable": false,
    "editable": false,
    "nbgrader": {
     "cell_type": "code",
     "checksum": "18c4c925861d200220fa5a5a317ae705",
     "grade": true,
     "grade_id": "cell-ab80387b81834de8",
     "locked": true,
     "points": 5,
     "schema_version": 3,
     "solution": false,
     "task": false
    }
   },
   "outputs": [],
   "source": [
    "# Hidden test for 3b-iii"
   ]
  },
  {
   "cell_type": "markdown",
   "metadata": {
    "deletable": false,
    "editable": false,
    "nbgrader": {
     "cell_type": "markdown",
     "checksum": "b48a52c1e196737872077ecce6d9d6fb",
     "grade": false,
     "grade_id": "cell-711815474f799b5c",
     "locked": true,
     "schema_version": 3,
     "solution": false,
     "task": false
    }
   },
   "source": [
    "### 3b-iv) Remove the columns according to the above result. Replace the `df` with the new result. Also remove `Id` column as it's not a useful feature. [5 pts]"
   ]
  },
  {
   "cell_type": "code",
   "execution_count": 99,
   "metadata": {
    "deletable": false,
    "nbgrader": {
     "cell_type": "code",
     "checksum": "4151579b7d29b2a96a35370e384c6c04",
     "grade": false,
     "grade_id": "cell-5c687ea4a0ba9db5",
     "locked": false,
     "schema_version": 3,
     "solution": true,
     "task": false
    }
   },
   "outputs": [
    {
     "name": "stdout",
     "output_type": "stream",
     "text": [
      "      MSSubClass MSZoning  LotArea Street LotShape LandContour Utilities  \\\n",
      "0             60       RL     8450   Pave      Reg         Lvl    AllPub   \n",
      "1             20       RL     9600   Pave      Reg         Lvl    AllPub   \n",
      "2             60       RL    11250   Pave      IR1         Lvl    AllPub   \n",
      "3             70       RL     9550   Pave      IR1         Lvl    AllPub   \n",
      "4             60       RL    14260   Pave      IR1         Lvl    AllPub   \n",
      "...          ...      ...      ...    ...      ...         ...       ...   \n",
      "1455          60       RL     7917   Pave      Reg         Lvl    AllPub   \n",
      "1456          20       RL    13175   Pave      Reg         Lvl    AllPub   \n",
      "1457          70       RL     9042   Pave      Reg         Lvl    AllPub   \n",
      "1458          20       RL     9717   Pave      Reg         Lvl    AllPub   \n",
      "1459          20       RL     9937   Pave      Reg         Lvl    AllPub   \n",
      "\n",
      "     LotConfig LandSlope Neighborhood  ... EnclosedPorch 3SsnPorch  \\\n",
      "0       Inside       Gtl      CollgCr  ...             0         0   \n",
      "1          FR2       Gtl      Veenker  ...             0         0   \n",
      "2       Inside       Gtl      CollgCr  ...             0         0   \n",
      "3       Corner       Gtl      Crawfor  ...           272         0   \n",
      "4          FR2       Gtl      NoRidge  ...             0         0   \n",
      "...        ...       ...          ...  ...           ...       ...   \n",
      "1455    Inside       Gtl      Gilbert  ...             0         0   \n",
      "1456    Inside       Gtl       NWAmes  ...             0         0   \n",
      "1457    Inside       Gtl      Crawfor  ...             0         0   \n",
      "1458    Inside       Gtl        NAmes  ...           112         0   \n",
      "1459    Inside       Gtl      Edwards  ...             0         0   \n",
      "\n",
      "     ScreenPorch PoolArea  MiscVal  MoSold  YrSold  SaleType SaleCondition  \\\n",
      "0              0        0        0       2    2008        WD        Normal   \n",
      "1              0        0        0       5    2007        WD        Normal   \n",
      "2              0        0        0       9    2008        WD        Normal   \n",
      "3              0        0        0       2    2006        WD       Abnorml   \n",
      "4              0        0        0      12    2008        WD        Normal   \n",
      "...          ...      ...      ...     ...     ...       ...           ...   \n",
      "1455           0        0        0       8    2007        WD        Normal   \n",
      "1456           0        0        0       2    2010        WD        Normal   \n",
      "1457           0        0     2500       5    2010        WD        Normal   \n",
      "1458           0        0        0       4    2010        WD        Normal   \n",
      "1459           0        0        0       6    2008        WD        Normal   \n",
      "\n",
      "     SalePrice  \n",
      "0       208500  \n",
      "1       181500  \n",
      "2       223500  \n",
      "3       140000  \n",
      "4       250000  \n",
      "...        ...  \n",
      "1455    175000  \n",
      "1456    210000  \n",
      "1457    266500  \n",
      "1458    142125  \n",
      "1459    147500  \n",
      "\n",
      "[1460 rows x 69 columns]\n"
     ]
    }
   ],
   "source": [
    "# your code here\n",
    "\n",
    "# remove the columns according to the above result, replace df with the new results\n",
    "# also remove ID column as it's not a useful feature\n",
    "df.drop(columns=features_to_throw)\n",
    "for c in features_to_throw:\n",
    "    del df[c]\n",
    "    \n",
    "del df[\"Id\"]\n",
    "print (df)"
   ]
  },
  {
   "cell_type": "code",
   "execution_count": 100,
   "metadata": {
    "deletable": false,
    "editable": false,
    "nbgrader": {
     "cell_type": "code",
     "checksum": "e88a950221bbf615924d9d352795635d",
     "grade": true,
     "grade_id": "cell-f6c0fb38ec21da14",
     "locked": true,
     "points": 5,
     "schema_version": 3,
     "solution": false,
     "task": false
    }
   },
   "outputs": [],
   "source": [
    "# tests that you properly updated df "
   ]
  },
  {
   "cell_type": "markdown",
   "metadata": {
    "deletable": false,
    "editable": false,
    "nbgrader": {
     "cell_type": "markdown",
     "checksum": "51676bcf1ccf98b495f97acf8b653866",
     "grade": false,
     "grade_id": "cell-d4cebd6f858b3f50",
     "locked": true,
     "schema_version": 3,
     "solution": false,
     "task": false
    }
   },
   "source": [
    "### 3c) Impute missing data [8 pts]\n",
    "Before imputing columns, we need to think about what methods to use to impute columns.\n",
    "The imputation strategy can be different depending on the variable types and variable value distribution. There are many imputation techniques, but let's use a few simple ones.    \n",
    "\n",
    "For a numerical variable imputation, we impute mean value if the distribution is symmetric while we use median value to impute when the distribution is skewed. Another method is to assign an arbitrary value that's outside the normal range. Though it can be useful to capture missingness, but it can create outliers. Both mean/median and arbitrary imputation methods are simple to use and suitable when missing values are 5% (no more than 10%) as a rule of thumb. Both methods can distort the original distribution.\n",
    "\n",
    "For a categorical variable imputation, we can impute with the most frequent categorical value. It is a simple method but it can distort the original distribution. \n",
    "It is also possible to create a \"missing\" category to capture missingness. The advantage of using missing category is that it captures missingness but its disadvantage is that it creates another rare category. "
   ]
  },
  {
   "cell_type": "markdown",
   "metadata": {
    "deletable": false,
    "editable": false,
    "nbgrader": {
     "cell_type": "markdown",
     "checksum": "860532c99a2364873a696d00826062a0",
     "grade": false,
     "grade_id": "cell-1682d3325bf66ea1",
     "locked": true,
     "schema_version": 3,
     "solution": false,
     "task": false
    }
   },
   "source": [
    "Below code shows histograms of feature columns that we can impute."
   ]
  },
  {
   "cell_type": "code",
   "execution_count": 106,
   "metadata": {
    "deletable": false,
    "editable": false,
    "nbgrader": {
     "cell_type": "code",
     "checksum": "c56df78836335b4d8586514930f46da2",
     "grade": false,
     "grade_id": "cell-09e44205ad080ceb",
     "locked": true,
     "schema_version": 3,
     "solution": false,
     "task": false
    }
   },
   "outputs": [
    {
     "data": {
      "image/png": "[encoded data removed]",
      "text/plain": [
       "<Figure size 432x288 with 1 Axes>"
      ]
     },
     "metadata": {
      "needs_background": "light"
     },
     "output_type": "display_data"
    },
    {
     "data": {
      "image/png": "[encoded data removed]",
      "text/plain": [
       "<Figure size 432x288 with 1 Axes>"
      ]
     },
     "metadata": {
      "needs_background": "light"
     },
     "output_type": "display_data"
    },
    {
     "data": {
      "image/png": "[encoded data removed]",
      "text/plain": [
       "<Figure size 432x288 with 1 Axes>"
      ]
     },
     "metadata": {
      "needs_background": "light"
     },
     "output_type": "display_data"
    },
    {
     "data": {
      "image/png": "[encoded data removed]",
      "text/plain": [
       "<Figure size 432x288 with 1 Axes>"
      ]
     },
     "metadata": {
      "needs_background": "light"
     },
     "output_type": "display_data"
    },
    {
     "data": {
      "image/png": "[encoded data removed]",
      "text/plain": [
       "<Figure size 432x288 with 1 Axes>"
      ]
     },
     "metadata": {
      "needs_background": "light"
     },
     "output_type": "display_data"
    },
    {
     "data": {
      "image/png": "[encoded data removed]",
      "text/plain": [
       "<Figure size 432x288 with 1 Axes>"
      ]
     },
     "metadata": {
      "needs_background": "light"
     },
     "output_type": "display_data"
    },
    {
     "data": {
      "image/png": "[encoded data removed]",
      "text/plain": [
       "<Figure size 432x288 with 1 Axes>"
      ]
     },
     "metadata": {
      "needs_background": "light"
     },
     "output_type": "display_data"
    },
    {
     "data": {
      "image/png": "[encoded data removed]",
      "text/plain": [
       "<Figure size 432x288 with 1 Axes>"
      ]
     },
     "metadata": {
      "needs_background": "light"
     },
     "output_type": "display_data"
    }
   ],
   "source": [
    "for c in features_to_impute:\n",
    "    df[c].hist()\n",
    "    plt.title(c)\n",
    "    plt.show()"
   ]
  },
  {
   "cell_type": "markdown",
   "metadata": {
    "deletable": false,
    "editable": false,
    "nbgrader": {
     "cell_type": "markdown",
     "checksum": "ecaaecf44eb0d6152328b826d3952a8d",
     "grade": false,
     "grade_id": "cell-45e51c905bfb2740",
     "locked": true,
     "schema_version": 3,
     "solution": false,
     "task": false
    }
   },
   "source": [
    "### 3c-i) Impute missing data for features in `features_to_impute`. Choose an appropriate method among mean or median imputation methods for numerical variable(s) and frequentest value imputation for categorical variable(s). [8 pts]\n",
    "You can inspect variable types by eyes, or use below code as a help. Replace those columns with imputed values. Do not change the column name or the data frame name. Do not add new columns to the data frame.     \n",
    "Hint: You can use .mode() function to find the most frequent value in a Series.    \n",
    "Hint: You may use .fillna() function on each feature Series."
   ]
  },
  {
   "cell_type": "code",
   "execution_count": 75,
   "metadata": {
    "deletable": false,
    "editable": false,
    "nbgrader": {
     "cell_type": "code",
     "checksum": "3e19ffc8484ab7f7624020f1b8b79fc6",
     "grade": false,
     "grade_id": "cell-eb5b21da40da7855",
     "locked": true,
     "schema_version": 3,
     "solution": false,
     "task": false
    }
   },
   "outputs": [
    {
     "name": "stdout",
     "output_type": "stream",
     "text": [
      "MasVnrType 5 object\n",
      "MasVnrArea 328 float64\n",
      "BsmtQual 5 object\n",
      "BsmtCond 5 object\n",
      "BsmtExposure 5 object\n",
      "BsmtFinType1 7 object\n",
      "BsmtFinType2 7 object\n",
      "Electrical 6 object\n"
     ]
    }
   ],
   "source": [
    "for c in features_to_impute:\n",
    "    print(c, len(df[c].unique()), df[c].dtype)"
   ]
  },
  {
   "cell_type": "code",
   "execution_count": 76,
   "metadata": {
    "deletable": false,
    "nbgrader": {
     "cell_type": "code",
     "checksum": "9b2ba0b60d1e6b0c63f4b913f023d402",
     "grade": false,
     "grade_id": "cell-683379e1f19a7fcd",
     "locked": false,
     "schema_version": 3,
     "solution": true,
     "task": false
    }
   },
   "outputs": [
    {
     "name": "stdout",
     "output_type": "stream",
     "text": [
      "0    No\n",
      "dtype: object\n"
     ]
    }
   ],
   "source": [
    "# your code here\n",
    "\n",
    "a = df['BsmtExposure'].mode()\n",
    "\n",
    "print(a)\n",
    "\n",
    "\n",
    "\n",
    "\n",
    "# use this cell for potential debugging"
   ]
  },
  {
   "cell_type": "code",
   "execution_count": 105,
   "metadata": {
    "deletable": false,
    "nbgrader": {
     "cell_type": "code",
     "checksum": "13775d500b53bea742ca777c207f4f77",
     "grade": false,
     "grade_id": "cell-8bc59664c30aac38",
     "locked": false,
     "schema_version": 3,
     "solution": true,
     "task": false
    }
   },
   "outputs": [
    {
     "name": "stdout",
     "output_type": "stream",
     "text": [
      "0\n",
      "0       196.0\n",
      "1         0.0\n",
      "2       162.0\n",
      "3         0.0\n",
      "4       350.0\n",
      "        ...  \n",
      "1455      0.0\n",
      "1456    119.0\n",
      "1457      0.0\n",
      "1458      0.0\n",
      "1459      0.0\n",
      "Name: MasVnrArea, Length: 1460, dtype: float64\n"
     ]
    }
   ],
   "source": [
    "# impute missing data \n",
    "df['MasVnrType'] = df['MasVnrType'].fillna('None')\n",
    "df['MasVnrArea'] = df['MasVnrArea'].fillna(0.0)\n",
    "df['BsmtQual'] = df['BsmtQual'].fillna('TA')\n",
    "df['BsmtCond'] = df['BsmtCond'].fillna('TA')\n",
    "df['BsmtExposure'] = df['BsmtExposure'].fillna('No')\n",
    "df['BsmtFinType1'] = df['BsmtFinType1'].fillna('Unf')\n",
    "df['BsmtFinType2'] = df['BsmtFinType2'].fillna('Unf')\n",
    "df['Electrical'] = df['Electrical'].fillna('SBrkr')\n",
    "\n",
    "print(df['Electrical'].isnull().sum())\n",
    "print(df['MasVnrArea'])"
   ]
  },
  {
   "cell_type": "code",
   "execution_count": 83,
   "metadata": {
    "deletable": false,
    "editable": false,
    "nbgrader": {
     "cell_type": "code",
     "checksum": "876fd25dabc127165dc3c0d6f2625591",
     "grade": true,
     "grade_id": "cell-42e7620ebac48500",
     "locked": true,
     "points": 2,
     "schema_version": 3,
     "solution": false,
     "task": false
    }
   },
   "outputs": [],
   "source": [
    "# tests 'MasVnrType' and 'MasVnrArea'\n"
   ]
  },
  {
   "cell_type": "code",
   "execution_count": 84,
   "metadata": {
    "deletable": false,
    "editable": false,
    "nbgrader": {
     "cell_type": "code",
     "checksum": "7dfd5e040d035d2b94d6534bb8f1c530",
     "grade": true,
     "grade_id": "cell-56558f302e7a8c4c",
     "locked": true,
     "points": 2,
     "schema_version": 3,
     "solution": false,
     "task": false
    }
   },
   "outputs": [],
   "source": [
    "# tsts 'BsmtQual' and 'BsmtCond'"
   ]
  },
  {
   "cell_type": "code",
   "execution_count": 85,
   "metadata": {
    "deletable": false,
    "editable": false,
    "nbgrader": {
     "cell_type": "code",
     "checksum": "07934d185f4c9f125821c8c0cb1f6e5a",
     "grade": true,
     "grade_id": "cell-371f8ca891ba7f38",
     "locked": true,
     "points": 2,
     "schema_version": 3,
     "solution": false,
     "task": false
    }
   },
   "outputs": [],
   "source": [
    "# tests 'BsmtExposure' and 'BsmtFinType1'\n"
   ]
  },
  {
   "cell_type": "code",
   "execution_count": 86,
   "metadata": {
    "deletable": false,
    "editable": false,
    "nbgrader": {
     "cell_type": "code",
     "checksum": "12dad82c142865569403ac4d9e89e5bd",
     "grade": true,
     "grade_id": "cell-7153efa6632bcbf9",
     "locked": true,
     "points": 2,
     "schema_version": 3,
     "solution": false,
     "task": false
    }
   },
   "outputs": [],
   "source": [
    "# tests 'BsmtFinType2' and 'Electrical'"
   ]
  },
  {
   "cell_type": "markdown",
   "metadata": {
    "deletable": false,
    "editable": false,
    "nbgrader": {
     "cell_type": "markdown",
     "checksum": "bfb7024f724583aa745c4ef0d2327d7c",
     "grade": false,
     "grade_id": "cell-3a0e60201d41e0cc",
     "locked": true,
     "schema_version": 3,
     "solution": false,
     "task": false
    }
   },
   "source": [
    "# Part 2. EDA, Simple Linear Regression\n",
    "\n",
    "In this part, we will use a simplified data and create a simple linear regression model. The dataset can be downloaded from https://www.kaggle.com/harlfoxem/housesalesprediction/download.    \n",
    "This dataset contains house sale prices for Kings County, which includes Seattle. It includes homes sold between May 2014 and May 2015. There are several versions of the data. Some additional information about the columns is available here: https://geodacenter.github.io/data-and-lab/KingCounty-HouseSales2015/, some of which are copied below.\n",
    "\n",
    "|Variable |\tDescription|\n",
    "|:---------|:-------------|\n",
    "|id \t|Identification|\n",
    "|date |\tDate sold|\n",
    "|price |\tSale price|\n",
    "|bedrooms |\tNumber of bedrooms|\n",
    "|bathrooms |\tNumber of bathrooms|\n",
    "|sqft_liv |\tSize of living area in square feet|\n",
    "|sqft_lot| \tSize of the lot in square feet|\n",
    "|floors |\tNumber of floors|\n",
    "|waterfront |\t‘1’ if the property has a waterfront, ‘0’ if not.|\n",
    "|view |\tAn index from 0 to 4 of how good the view of the property was|\n",
    "|condition |\tCondition of the house, ranked from 1 to 5|\n",
    "|grade |\tClassification by construction quality which refers to the types of materials used and the quality of workmanship. Buildings of better quality (higher grade) cost more to build per unit of measure and command higher value.|\n",
    "|sqft_above |\tSquare feet above ground|\n",
    "|sqft_basmt |\tSquare feet below ground|\n",
    "|yr_built \t|Year built|\n",
    "|yr_renov |\tYear renovated. ‘0’ if never renovated|\n",
    "|zipcode |\t5 digit zip code|\n",
    "|lat \t|Latitude|\n",
    "|long \t|Longitude|\n",
    "|squft_liv15 |\tAverage size of interior housing living space for the closest 15 houses, in square feet|\n",
    "|squft_lot15 |\tAverage size of land lost for the closest 15 houses, in square feet|"
   ]
  },
  {
   "cell_type": "code",
   "execution_count": 102,
   "metadata": {
    "deletable": false,
    "editable": false,
    "nbgrader": {
     "cell_type": "code",
     "checksum": "618f5da678b36c8a3182068e76b17c60",
     "grade": false,
     "grade_id": "cell-4164737ecf84807d",
     "locked": true,
     "schema_version": 3,
     "solution": false,
     "task": false
    }
   },
   "outputs": [],
   "source": [
    "import scipy as sp\n",
    "import scipy.stats as stats\n",
    "import pandas as pd\n",
    "import numpy as np\n",
    "import matplotlib.pyplot as plt\n",
    "import seaborn as sns\n",
    "import copy\n",
    "# Set color map to have light blue background\n",
    "sns.set()\n",
    "import statsmodels.formula.api as smf\n",
    "import statsmodels.api as sm\n",
    "%matplotlib inline"
   ]
  },
  {
   "cell_type": "code",
   "execution_count": 103,
   "metadata": {
    "deletable": false,
    "editable": false,
    "nbgrader": {
     "cell_type": "code",
     "checksum": "4dd7592ae08aaed6c228f393142093e8",
     "grade": false,
     "grade_id": "cell-ab53fad4700fc069",
     "locked": true,
     "schema_version": 3,
     "solution": false,
     "task": false
    }
   },
   "outputs": [],
   "source": [
    "df2 = pd.read_csv('data/house_data_washington.csv')"
   ]
  },
  {
   "cell_type": "markdown",
   "metadata": {
    "deletable": false,
    "editable": false,
    "nbgrader": {
     "cell_type": "markdown",
     "checksum": "8502892af75a810bf19acd19416ab1b4",
     "grade": false,
     "grade_id": "cell-b9c982194d2d0f40",
     "locked": true,
     "schema_version": 3,
     "solution": false,
     "task": false
    }
   },
   "source": [
    "## 4. Munging data [15 pts]\n",
    "### 4a) Date string to numbers [5 pts]\n",
    "Inspect the data frame and data type of each column. The column 'date' is the date sold, and has string value. We will extract year and month information from the string. \n",
    "In the data frame df2, create new features 'sales_year' and 'sales_month'."
   ]
  },
  {
   "cell_type": "code",
   "execution_count": 38,
   "metadata": {
    "deletable": false,
    "editable": false,
    "nbgrader": {
     "cell_type": "code",
     "checksum": "7be2a3c59fd8b06ed34c697728ae78d9",
     "grade": false,
     "grade_id": "cell-def60c6a987f3af9",
     "locked": true,
     "schema_version": 3,
     "solution": false,
     "task": false
    }
   },
   "outputs": [
    {
     "name": "stdout",
     "output_type": "stream",
     "text": [
      "sales_month\n",
      "1      978\n",
      "2     1250\n",
      "3     1875\n",
      "4     2231\n",
      "5     2414\n",
      "6     2180\n",
      "7     2211\n",
      "8     1940\n",
      "9     1774\n",
      "10    1878\n",
      "11    1411\n",
      "12    1471\n",
      "Name: id, dtype: int64\n",
      "sales_year\n",
      "2014    14633\n",
      "2015     6980\n",
      "Name: id, dtype: int64\n"
     ]
    }
   ],
   "source": [
    "# extract year and month info from the string\n",
    "# create new features 'sales_year' and 'sales_month' in df2\n",
    "df2['sales_year'] = df2.date.apply(lambda x: int(x[:4]))\n",
    "df2['sales_month'] = df2.date.apply(lambda x: int(x[4:6]))\n",
    "print(df2.groupby('sales_month')['id'].count())\n",
    "print(df2.groupby('sales_year')['id'].count())"
   ]
  },
  {
   "cell_type": "markdown",
   "metadata": {
    "deletable": false,
    "editable": false,
    "nbgrader": {
     "cell_type": "markdown",
     "checksum": "5e26b3968479f7401a22b2b5f7904e32",
     "grade": false,
     "grade_id": "cell-270ddcab2bd221ef",
     "locked": true,
     "schema_version": 3,
     "solution": false,
     "task": false
    }
   },
   "source": [
    "Which month has the most number of sales?"
   ]
  },
  {
   "cell_type": "code",
   "execution_count": 39,
   "metadata": {
    "deletable": false,
    "nbgrader": {
     "cell_type": "code",
     "checksum": "530f916f96704d41addaeefd27e5d874",
     "grade": false,
     "grade_id": "cell-447e548e063eb680",
     "locked": false,
     "schema_version": 3,
     "solution": true,
     "task": false
    }
   },
   "outputs": [],
   "source": [
    "# your code here\n",
    "\n",
    "# uncomment and update string with capitalized month, e.g., 'December'\n",
    "most_sales = 'May'"
   ]
  },
  {
   "cell_type": "markdown",
   "metadata": {
    "deletable": false,
    "editable": false,
    "nbgrader": {
     "cell_type": "markdown",
     "checksum": "f30c322e9d2b1fecfcf52e6ca837a5f7",
     "grade": false,
     "grade_id": "cell-ab45a9249c1c8285",
     "locked": true,
     "schema_version": 3,
     "solution": false,
     "task": false
    }
   },
   "source": [
    "Which months has the least number of sales?"
   ]
  },
  {
   "cell_type": "code",
   "execution_count": 40,
   "metadata": {
    "deletable": false,
    "nbgrader": {
     "cell_type": "code",
     "checksum": "a956c0433e5d69ab8f8dc816fa0a2fa8",
     "grade": false,
     "grade_id": "cell-05ff2ec904565f4c",
     "locked": false,
     "schema_version": 3,
     "solution": true,
     "task": false
    }
   },
   "outputs": [],
   "source": [
    "# your code here\n",
    "\n",
    "# uncomment and update string with capitalized month, e.g., 'December'\n",
    "least_sales = 'January'"
   ]
  },
  {
   "cell_type": "code",
   "execution_count": 41,
   "metadata": {
    "deletable": false,
    "editable": false,
    "nbgrader": {
     "cell_type": "code",
     "checksum": "a5a73a6bbf29823865efc3d9ae946188",
     "grade": true,
     "grade_id": "cell-cadc8a85fd0b5630",
     "locked": true,
     "points": 5,
     "schema_version": 3,
     "solution": false,
     "task": false
    }
   },
   "outputs": [],
   "source": [
    "# tests solutions for most_sales and least_sales"
   ]
  },
  {
   "cell_type": "code",
   "execution_count": 42,
   "metadata": {
    "deletable": false,
    "editable": false,
    "nbgrader": {
     "cell_type": "code",
     "checksum": "a0e95641a080905b17db379d46d18068",
     "grade": false,
     "grade_id": "cell-830d3bb5de332b12",
     "locked": true,
     "schema_version": 3,
     "solution": false,
     "task": false
    }
   },
   "outputs": [
    {
     "name": "stdout",
     "output_type": "stream",
     "text": [
      "<class 'pandas.core.frame.DataFrame'>\n",
      "RangeIndex: 21613 entries, 0 to 21612\n",
      "Data columns (total 23 columns):\n",
      " #   Column         Non-Null Count  Dtype  \n",
      "---  ------         --------------  -----  \n",
      " 0   id             21613 non-null  int64  \n",
      " 1   date           21613 non-null  object \n",
      " 2   price          21613 non-null  int64  \n",
      " 3   bedrooms       21613 non-null  int64  \n",
      " 4   bathrooms      21613 non-null  float64\n",
      " 5   sqft_living    21613 non-null  int64  \n",
      " 6   sqft_lot       21613 non-null  int64  \n",
      " 7   floors         21613 non-null  float64\n",
      " 8   waterfront     21613 non-null  int64  \n",
      " 9   view           21613 non-null  int64  \n",
      " 10  condition      21613 non-null  int64  \n",
      " 11  grade          21613 non-null  int64  \n",
      " 12  sqft_above     21613 non-null  int64  \n",
      " 13  sqft_basement  21613 non-null  int64  \n",
      " 14  yr_built       21613 non-null  int64  \n",
      " 15  yr_renovated   21613 non-null  int64  \n",
      " 16  zipcode        21613 non-null  int64  \n",
      " 17  lat            21613 non-null  float64\n",
      " 18  long           21613 non-null  float64\n",
      " 19  sqft_living15  21613 non-null  int64  \n",
      " 20  sqft_lot15     21613 non-null  int64  \n",
      " 21  sales_year     21613 non-null  int64  \n",
      " 22  sales_month    21613 non-null  int64  \n",
      "dtypes: float64(4), int64(18), object(1)\n",
      "memory usage: 3.8+ MB\n"
     ]
    }
   ],
   "source": [
    "df2.info()"
   ]
  },
  {
   "cell_type": "markdown",
   "metadata": {
    "deletable": false,
    "editable": false,
    "nbgrader": {
     "cell_type": "markdown",
     "checksum": "6fe4a4479b2bcbf792324283a0f2df4b",
     "grade": false,
     "grade_id": "cell-6107c495a67fc96b",
     "locked": true,
     "schema_version": 3,
     "solution": false,
     "task": false
    }
   },
   "source": [
    "### 4b) Variable types [5 pts]\n",
    "Inspect each feature's data type and variable type. What is the best description for the variable type of following features? Update the string to 'numeric' or 'categorical'."
   ]
  },
  {
   "cell_type": "code",
   "execution_count": 43,
   "metadata": {
    "deletable": false,
    "nbgrader": {
     "cell_type": "code",
     "checksum": "aa66075bc13defaa2f776454df018e58",
     "grade": false,
     "grade_id": "cell-d1457a08b8feb7e4",
     "locked": false,
     "schema_version": 3,
     "solution": true,
     "task": false
    }
   },
   "outputs": [],
   "source": [
    "# your code here\n",
    "\n",
    "\n",
    "# uncomment the feaures below and update the strings with 'numeric' or 'categorical'\n",
    "price = 'numeric'\n",
    "bathrooms = 'numeric'\n",
    "waterfront = 'categorical'\n",
    "grade = 'numeric'\n",
    "zipcode = 'categorical'\n",
    "sales_year = 'numeric'"
   ]
  },
  {
   "cell_type": "code",
   "execution_count": 44,
   "metadata": {
    "deletable": false,
    "editable": false,
    "nbgrader": {
     "cell_type": "code",
     "checksum": "d53b61461c0ea71620a5ca3ebb824cd6",
     "grade": true,
     "grade_id": "cell-83405385a8bf3251",
     "locked": true,
     "points": 5,
     "schema_version": 3,
     "solution": false,
     "task": false
    }
   },
   "outputs": [],
   "source": [
    "# tests that you selected correct variable type for the features in 4b "
   ]
  },
  {
   "cell_type": "code",
   "execution_count": 45,
   "metadata": {
    "deletable": false,
    "nbgrader": {
     "cell_type": "code",
     "checksum": "ad79a39988e7225145617fbd053757bb",
     "grade": false,
     "grade_id": "cell-907eb0b299367ce9",
     "locked": false,
     "schema_version": 3,
     "solution": true,
     "task": false
    }
   },
   "outputs": [
    {
     "name": "stdout",
     "output_type": "stream",
     "text": [
      "price [ 221900  538000  180000 ...  610685 1007500  402101]\n",
      "bedrooms [ 3  2  4  5  1  6  7  0  8  9 11 10 33]\n",
      "bathrooms [1.   2.25 3.   2.   4.5  1.5  2.5  1.75 2.75 3.25 4.   3.5  0.75 4.75\n",
      " 5.   4.25 3.75 0.   1.25 5.25 6.   0.5  5.5  6.75 5.75 8.   7.5  7.75\n",
      " 6.25 6.5 ]\n",
      "sqft_living [1180 2570  770 ... 3087 3118 1425]\n",
      "sqft_lot [ 5650  7242 10000 ...  5813  2388  1076]\n",
      "floors [1.  2.  1.5 3.  2.5 3.5]\n",
      "waterfront [0 1]\n",
      "view [0 3 4 2 1]\n",
      "condition [3 5 4 1 2]\n",
      "grade [ 7  6  8 11  9  5 10 12  4  3 13  1]\n",
      "sqft_above [1180 2170  770 1050 1680 3890 1715 1060 1890 1860  860 1430 1370 1810\n",
      " 1980 1600 1200 1250 2330 2270 1070 2450 1710 1750 1400  790 2570 2320\n",
      " 1190 1510 1090 1280  930 2360  890 2620 2600 3595 1570  920 3160  990\n",
      " 2290 2165 1640 1000 2130 2830 2250 2420 3250 1850 1590 1260 2519 1540\n",
      " 1110 1770 2720 2240 3070 2380 2390  880 1040  910 3450 2350 1900 1010\n",
      "  960 2660 1610  765 3520 1290 1960 1160 1210 1270 1440 2190 2920 1460\n",
      " 1170 1240 3140 2030 2310  700 1080 2520 2780 1560 1450 1720 2910 1620\n",
      " 1360 2070 2460 1390 2140 1320 1340 1550  940 1380 3670 2370 1130  980\n",
      " 3540 2500 1760 1030 1780 3400 2680 1670 2590  820 1220 2440 2090 1100\n",
      " 1330 1420 1690 2150 1910 1350 1940  900 1630 2714  850 1870 1950 2760\n",
      " 2020 1120 1480 1230 2280 3760 3530  830 1300 2740 1830  720 2010 3360\n",
      "  800 1730  760 1700 4750 5310  580 2653 2850 2210 2630 3500 1740 1140\n",
      " 2160 2650  970 2040 2180 2220 1660 3370 2690 1930 3150 3030 2050 2490\n",
      " 2560 1275 2580  560 1820 1840 2990 3230 1580 3480 2510 1410 2120 3300\n",
      " 3840 1500 1530 2840  833 2000 6070  950 2200 4040 1920 1490 3470 3130\n",
      " 2610 3260 2260  430 3390  630 4860 3860 2810  870 3180 2770 4030 4410\n",
      " 2400 1520 3040 6050 4740 1970 5403 3350 3580 1790  750 2860 2750 2340\n",
      " 2870 4120 3200 2550 1805 4150 1384 2060 2110 3590 2100 2540 1880 1150\n",
      " 1470 1255 1800 4370 3190 2730 4570 2470  670 2900 4670 4230 2156 1020\n",
      " 2940 2640 2710 3100 3610 4270  840 3090 2300  380 2480 3460 3060 3064\n",
      " 3000 1654 2790 1310 2230 2430 3680 2670 2208  810  740 1422  490 2080\n",
      " 3440 5670 4475  730 3410 3010  600 2960 3570 4300 3990  780 3020 5990\n",
      "  440 4460 4190 2800 2530 1650 3690 2932 3720 4250 3110 2963 4930 2950\n",
      " 5000 2452 2820 1981  640 2495 2403 5320 6720  660 2341 4210 3830 3280\n",
      " 2980 5153 1990 1646  610  710 5450 3504 3210 1782 2930  590 4280  680\n",
      " 3880 3430 3750 4130 5710 3380 3330 4700 3220 3362 3510 3810  620 4490\n",
      " 2410 3050 1008 3488 4070 3420 5770 1605  520 1088 3555 4360 3960 2700\n",
      " 4340 1552 3850 2303 3270 4350 3640 2174 4160 2496 5180 5130 6350 3770\n",
      " 2153 3780 2890 1714 2201 2970  992 3950 3527 2835 3915 1427 4870 3340\n",
      " 3620 4310 3930 4080 5400  570 3310 6110 3320 3490 3859 3710 1798 4600\n",
      " 3560 3940 3600 3800 1105 2305 3290 5050 1556 1553 4000 1657 3001 4220\n",
      "  480 3120 3740  530 3700 5230 5370 3080 4140 4430 3550 1159 1288 2880\n",
      " 4610 1122 3052 1479 7680 3820 1934 5080 2675 2506 5760 2154 4390 3240\n",
      " 1995 1689 2782 2395 4400 6200 3526 4320 2483 4380 4580 4180 2064 3650\n",
      " 1726 2019 4240 1256  500 1355 1747 1678 1833 1414 4115 3597 3170  390\n",
      " 1976 5830 2601 3920 2641 5070 2518 3910 3660 3695 4020 2803 2074 2038\n",
      " 4060 4890 2329 1264 1095  690 4090 1392 2844  902 4560 2811 4720 2168\n",
      " 5610 2683 4900 2095 4290 4050 4260 4440 6220 1175  998 2356 4500 3900\n",
      " 3831 1315 4470 4810 2286 2927 4760 8570 5140 1679 1811 2849 1676 1757\n",
      " 3730 2441 2163 5250 2795 2415 3970 4200 1068 5240 1509 1954 4820 1651\n",
      " 4100 1752 3630 2885 3154 1129 2632 1996 4010  550  410 6430 3790 2031\n",
      " 1652 2434 3316 1899 2331 2497 2216 4170 1341 1961 5584 8860 2507 5220\n",
      " 4850 5844 5530 2145  650 1982 4910 3605 1778 1463 2783 1946 1358 3870\n",
      " 1864 1845 6290 3980 2382 2979 3674 2726 5440 1295 2115 6085 3265 3136\n",
      " 6640 4620 3361 2245 2242 1078 2577 1329  420 4330 1975 7420 1788 2299\n",
      " 1092 4225 1087 1904  470 2966 2192 2253 5550 4133 4285 1216  540 9410\n",
      " 2075 5330 2166 1628 1808 1352 2557 6380 7880 2734 1363 1769 2093 1677\n",
      " 2588 5190 2298 1491 2961 5020 5980 4540  844 6120 2233 4480 4110 4770\n",
      " 2473  995 5160 1494 2007 1048 3002 4780 2155 2014 4980 2665 4830 4790\n",
      " 5010  370 2105 3006 3004 2689 4660 1746 2678 2755 2414  901 4630 2068\n",
      " 2807 2643 2181 4510 4420 1604 1435 3045 2717 2905 4940 5110 2533 6660\n",
      " 3485 2659 5090 2375 1964  866 1595  944 5480  809 5040 1764 1656 1802\n",
      "  460 2692 1544 2044 1212 4083 8020 3905 1502 4590  384 2092 6090 1615\n",
      " 7320 1396 1484 1765 5490 1453 1643 5300 1381 4065  290 1313 5430 1397\n",
      " 2793 2475 1936 3028  798 2575 3276 1584 2393 2029 3222 1072 1785 1984\n",
      "  962 2423 2052 2538 2437 2789 2906 4800 7850 2196 1847 2658 2655 3855\n",
      " 1728  963 2223 1611 2015 2448 1489 1116 3745 1002 3202 1347 1481 2311\n",
      " 2544 2584 2217 3569 3181 1921 2612 2671 2598 3284 3266 1076 2594 2718\n",
      " 1794 2481 3845 1413 1876 3148 2413 1767 5060  806 2547 1834 2024 1165\n",
      " 2134 1741 2798 1852 2099 3216 1094 2891 2432 2283 2701 1658  893 2009\n",
      " 1444 2744 3078 3065 1578 2815 4960 1571 6530 4640 1536 3172 6370 3223\n",
      " 1608 2229 3135 1408 1763 4840 1232 2502 2424 1296 1914  988 3828 3056\n",
      " 2267 1131 2796 1812 1084 2025 1564 1239 2568 1528 2628 2185 2478 2669\n",
      " 1912 2828 2425 1446 3206 2406 1419 2056 1144 2456 4950 3192  828 2529\n",
      " 2732 1987 3906 4073 2578 2738 3691 1061 2846 2542 1889 3336 3236 1451\n",
      " 1983 2313 1824 1322 1766 2301 3274 1108 2864 2716 1572 3281 2656 2398\n",
      " 1867 1613 2587 2623  894 1606 2244 2026 2238 2517 2708 2555 1405 4450\n",
      " 1248 6420 2531 1333 2198 3087 3118 1425]\n",
      "sqft_basement [   0  400  910 1530  730 1700  300  970  760  720  700  820  780  790\n",
      "  330 1620  360  588 1510  410  990  600  560  550 1000 1600  500 1040\n",
      "  880 1010  240  265  290  800  540  380  710  840  770  480  570 1490\n",
      "  620 1250 1270  120  650  180 1130  450 1640 1460 1020 1030  750  640\n",
      " 1070  490 1310  630 2000  390  430  850  210 1430 1950  440  220 1160\n",
      "  860  580 2060 1820 1180  200 1150 1200  680  530 1450 1170 1080  960\n",
      " 1100  280  870  460 1400 1320  660 1220  900  420 1580 1380  475  690\n",
      "  270  350  935 1370  980 1470  160  950   50  740 1780 1900  340  470\n",
      "  370  140 1760  130  610  520  890 1110  150 1720  810  190 1290  670\n",
      " 1800 1120 1810   60 1050  940  310  930 1390 1830 1300  510 1330 1590\n",
      "  920 1420 1240 1960 1560 2020 1190 2110 1280  250 2390 1230  170  830\n",
      " 1260 1410 1340  590 1500 1140  260  100  320 1480 1060 1284 1670 1350\n",
      " 2570 2590 1090  110 2500   90 1940 1550 2350 2490 1481 1360 1135 1520\n",
      " 1850 1660 2130 2600 1690  243 1210 2620 1024 1798 1610 1440 1570 1650\n",
      "  704 1910 1630 2360 1852 2090 2400 1790 2150  230   70 1680 2100 3000\n",
      " 1870 1710 2030  875 1540 2850 2170  506  906  145 2040  784 1750  374\n",
      "  518 2720 2730 1840 3480 2160 1920 2330 1860 2050 4820 1913   80 2010\n",
      " 3260 2200  415 1730  652 2196 1930  515   40 2080 2580 1548 1740  235\n",
      "  861 1890 2220  792 2070 4130 2250 2240  894 1990  768 2550  435 1008\n",
      " 2300 2610  666 3500  172 1816 2190 1245 1525 1880  862  946 1281  414\n",
      " 2180  276 1248  602  516  176  225 1275  266  283   65 2310   10 1770\n",
      " 2120  295  207  915  556  417  143  508 2810   20  274  248]\n",
      "yr_built [1955 1951 1933 1965 1987 2001 1995 1963 1960 2003 1942 1927 1977 1900\n",
      " 1979 1994 1916 1921 1969 1947 1968 1985 1941 1915 1909 1948 2005 1929\n",
      " 1981 1930 1904 1996 2000 1984 2014 1922 1959 1966 1953 1950 2008 1991\n",
      " 1954 1973 1925 1989 1972 1986 1956 2002 1992 1964 1952 1961 2006 1988\n",
      " 1962 1939 1946 1967 1975 1980 1910 1983 1978 1905 1971 2010 1945 1924\n",
      " 1990 1914 1926 2004 1923 2007 1976 1949 1999 1901 1993 1920 1997 1943\n",
      " 1957 1940 1918 1928 1974 1911 1936 1937 1982 1908 1931 1998 1913 2013\n",
      " 1907 1958 2012 1912 2011 1917 1932 1944 1902 2009 1903 1970 2015 1934\n",
      " 1938 1919 1906 1935]\n",
      "yr_renovated [   0 1991 2002 2010 1999 1992 2013 1994 1978 2005 2008 2003 1984 1954\n",
      " 2014 2011 1974 1983 1945 1990 1988 1957 1977 1981 1995 2000 1998 1970\n",
      " 1989 2004 1986 2009 2007 1987 1973 2006 1985 2001 1980 1971 1979 1997\n",
      " 1950 1969 1948 2015 1968 2012 1963 1951 1993 1962 1996 1972 1953 1955\n",
      " 1982 1956 1940 1976 1946 1975 1958 1964 1959 1960 1967 1965 1934 1944]\n",
      "zipcode [98178 98125 98028 98136 98074 98053 98003 98198 98146 98038 98007 98115\n",
      " 98107 98126 98019 98103 98002 98133 98040 98092 98030 98119 98112 98052\n",
      " 98027 98117 98058 98001 98056 98166 98023 98070 98148 98105 98042 98008\n",
      " 98059 98122 98144 98004 98005 98034 98075 98116 98010 98118 98199 98032\n",
      " 98045 98102 98077 98108 98168 98177 98065 98029 98006 98109 98022 98033\n",
      " 98155 98024 98011 98031 98106 98072 98188 98014 98055 98039]\n",
      "lat [47.5112 47.721  47.7379 ... 47.3906 47.3339 47.6502]\n",
      "long [-122.257 -122.319 -122.233 -122.393 -122.045 -122.005 -122.327 -122.315\n",
      " -122.337 -122.031 -122.145 -122.292 -122.229 -122.394 -122.375 -121.962\n",
      " -122.343 -122.21  -122.306 -122.341 -122.169 -122.166 -122.172 -122.218\n",
      " -122.36  -122.314 -122.304 -122.11  -122.07  -122.357 -122.368 -122.157\n",
      " -122.31  -122.132 -122.362 -122.282 -122.18  -122.027 -122.347 -122.016\n",
      " -122.364 -122.175 -121.977 -122.371 -122.151 -122.301 -122.451 -122.322\n",
      " -122.189 -122.384 -122.369 -122.281 -122.29  -122.114 -122.122 -122.116\n",
      " -122.149 -122.339 -122.335 -122.344 -122.32  -122.297 -122.192 -122.215\n",
      " -122.16  -122.179 -122.287 -122.036 -122.073 -121.987 -122.125 -122.34\n",
      " -122.025 -122.008 -122.291 -122.365 -122.199 -122.194 -122.387 -122.372\n",
      " -122.391 -122.351 -122.386 -122.249 -122.277 -122.378 -121.958 -121.714\n",
      " -122.08  -122.196 -122.184 -122.133 -122.38  -122.082 -122.109 -122.053\n",
      " -122.349 -122.295 -122.253 -122.248 -122.303 -122.294 -122.226 -122.266\n",
      " -122.098 -122.212 -122.244 -122.39  -122.352 -121.85  -122.152 -122.054\n",
      " -122.072 -121.998 -122.296 -122.299 -122.381 -122.358 -122.128 -122.171\n",
      " -122.174 -122.026 -122.353 -121.943 -122.286 -122.336 -122.359 -122.162\n",
      " -122.3   -122.176 -121.996 -122.118 -122.193 -122.023 -122.224 -122.168\n",
      " -122.231 -122.331 -122.374 -122.182 -122.308 -122.307 -121.999 -122.376\n",
      " -122.2   -122.039 -122.102 -122.188 -122.379 -122.043 -122.153 -122.191\n",
      " -122.219 -122.312 -121.911 -121.994 -122.165 -122.37  -122.158 -122.047\n",
      " -122.284 -122.017 -122.275 -122.268 -122.367 -122.217 -122.373 -122.013\n",
      " -122.214 -122.034 -122.164 -121.899 -122.183 -121.95  -122.324 -122.216\n",
      " -122.395 -122.213 -122.345 -122.278 -122.111 -121.711 -122.27  -122.178\n",
      " -122.147 -121.772 -122.302 -122.438 -122.223 -122.042 -122.323 -122.255\n",
      " -122.4   -122.261 -122.071 -122.206 -122.272 -122.23  -122.144 -122.143\n",
      " -122.181 -122.154 -122.311 -122.274 -122.077 -122.    -122.298 -122.058\n",
      " -121.837 -122.333 -122.057 -122.252 -122.093 -122.012 -122.052 -122.354\n",
      " -122.22  -122.49  -121.875 -122.24  -122.078 -122.173 -121.854 -122.222\n",
      " -122.28  -122.137 -122.159 -121.974 -122.141 -122.029 -121.709 -122.19\n",
      " -121.97  -122.329 -122.195 -122.06  -121.959 -122.095 -122.148 -122.146\n",
      " -122.35  -121.901 -122.241 -122.129 -122.289 -122.305 -122.022 -122.385\n",
      " -121.779 -122.032 -122.402 -122.482 -122.227 -121.982 -122.161 -122.046\n",
      " -122.156 -122.127 -122.33  -122.197 -122.041 -122.103 -122.318 -122.382\n",
      " -122.271 -121.955 -122.211 -122.262 -122.258 -122.121 -122.221 -122.234\n",
      " -122.089 -122.123 -122.167 -121.909 -122.107 -122.064 -122.066 -122.062\n",
      " -122.264 -122.186 -122.087 -121.88  -121.864 -122.205 -122.363 -122.139\n",
      " -122.018 -122.225 -122.285 -122.084 -122.177 -122.056 -122.316 -122.021\n",
      " -122.348 -122.009 -122.131 -122.411 -122.198 -122.256 -122.117 -122.097\n",
      " -122.075 -121.845 -122.083 -122.259 -121.87  -122.015 -122.007 -121.86\n",
      " -122.409 -121.755 -121.972 -122.251 -122.317 -121.776 -122.115 -122.283\n",
      " -122.242 -122.001 -122.024 -122.309 -122.113 -121.771 -122.239 -122.273\n",
      " -122.396 -122.094 -122.267 -122.326 -122.13  -122.269 -121.853 -122.05\n",
      " -122.346 -122.076 -121.826 -122.124 -121.758 -122.202 -121.785 -121.872\n",
      " -122.006 -122.004 -122.321 -121.882 -122.101 -122.03  -122.185 -122.1\n",
      " -121.759 -121.965 -122.201 -122.366 -122.313 -122.405 -122.02  -122.279\n",
      " -122.355 -121.934 -122.15  -122.356 -121.993 -122.044 -122.134 -121.867\n",
      " -122.01  -121.991 -122.011 -121.983 -122.228 -122.033 -122.276 -122.119\n",
      " -121.937 -122.361 -122.325 -122.203 -122.136 -122.237 -122.209 -122.049\n",
      " -122.288 -122.106 -122.037 -122.207 -122.263 -121.915 -122.204 -122.09\n",
      " -122.069 -121.852 -121.787 -121.976 -122.377 -122.059 -122.383 -121.989\n",
      " -122.019 -122.208 -121.878 -122.328 -122.25  -122.338 -122.388 -122.265\n",
      " -122.332 -122.399 -122.397 -122.014 -121.956 -122.092 -122.028 -122.293\n",
      " -122.12  -122.035 -122.14  -122.04  -122.112 -121.906 -122.17  -122.238\n",
      " -122.512 -121.997 -121.89  -122.463 -121.908 -122.086 -122.389 -121.913\n",
      " -122.163 -121.918 -122.108 -122.502 -122.392 -122.236 -121.859 -121.981\n",
      " -122.342 -121.96  -121.978 -122.47  -121.91  -121.966 -122.065 -122.246\n",
      " -122.41  -121.879 -122.079 -122.099 -122.187 -121.98  -122.002 -122.138\n",
      " -121.898 -122.235 -122.126 -121.782 -121.995 -122.401 -121.858 -121.888\n",
      " -121.752 -122.063 -122.26  -121.78  -121.708 -121.721 -122.403 -121.945\n",
      " -122.243 -122.45  -121.927 -122.085 -122.088 -121.973 -122.055 -122.398\n",
      " -121.984 -121.912 -121.903 -121.946 -122.232 -122.412 -122.104 -122.048\n",
      " -122.479 -122.155 -121.833 -121.778 -122.003 -121.99  -121.926 -122.051\n",
      " -121.986 -122.245 -121.861 -122.431 -121.964 -122.142 -122.074 -122.247\n",
      " -122.497 -121.769 -121.827 -121.979 -121.871 -122.091 -121.754 -121.746\n",
      " -121.92  -121.992 -122.406 -121.359 -121.789 -121.707 -122.068 -122.404\n",
      " -122.334 -121.799 -121.774 -121.985 -121.865 -121.724 -122.415 -121.756\n",
      " -121.809 -122.135 -121.691 -122.038 -121.877 -121.94  -121.968 -121.988\n",
      " -121.315 -121.902 -122.514 -122.414 -121.883 -121.866 -121.744 -122.096\n",
      " -122.061 -121.881 -121.745 -122.461 -122.067 -121.868 -121.646 -121.93\n",
      " -122.105 -121.763 -121.718 -121.967 -121.777 -121.957 -121.823 -121.887\n",
      " -122.408 -122.462 -122.43  -122.456 -121.897 -121.932 -121.969 -121.916\n",
      " -122.081 -121.975 -121.735 -121.801 -121.761 -121.723 -121.924 -122.475\n",
      " -121.935 -122.407 -122.448 -122.453 -121.894 -121.936 -121.764 -122.416\n",
      " -121.905 -122.464 -121.768 -122.484 -121.738 -121.9   -121.82  -122.455\n",
      " -121.889 -122.496 -121.829 -122.505 -121.951 -121.847 -122.509 -121.961\n",
      " -121.417 -121.904 -122.503 -121.949 -121.874 -122.432 -121.971 -121.77\n",
      " -122.473 -121.896 -121.952 -122.254 -121.743 -121.933 -121.892 -121.749\n",
      " -121.473 -121.857 -122.465 -121.838 -121.954 -122.422 -121.931 -121.963\n",
      " -122.441 -121.925 -121.352 -122.511 -122.413 -121.876 -121.748 -121.818\n",
      " -121.8   -121.929 -121.698 -121.886 -121.802 -121.81  -121.762 -121.781\n",
      " -121.775 -122.44  -121.773 -121.819 -121.726 -122.459 -122.446 -121.855\n",
      " -121.736 -122.499 -122.46  -121.786 -122.421 -121.947 -122.439 -121.834\n",
      " -121.804 -122.443 -121.716 -121.848 -122.458 -122.515 -121.922 -121.953\n",
      " -121.783 -122.472 -121.944 -121.869 -121.828 -122.452 -121.831 -121.737\n",
      " -121.739 -121.863 -121.73  -121.856 -121.747 -121.893 -121.733 -121.846\n",
      " -121.821 -121.319 -121.765 -121.75  -122.506 -121.948 -121.921 -122.507\n",
      " -122.457 -121.914 -122.469 -121.792 -121.907 -121.841 -121.757 -121.788\n",
      " -121.731 -122.449 -121.316 -121.321 -122.504 -121.884 -121.803 -121.842\n",
      " -121.719 -121.766 -122.433 -122.519 -121.851 -121.402 -122.454 -122.467\n",
      " -121.325 -121.815 -121.676 -121.941 -122.445 -121.76  -121.885 -121.742\n",
      " -121.822 -121.895 -121.784 -121.701 -121.713 -121.727 -121.849 -121.835\n",
      " -122.435 -122.474 -122.444 -121.939 -121.48  -121.364 -121.767 -122.42\n",
      " -121.84  -122.425 -122.447 -121.797 -122.491 -121.917 -121.891 -121.942\n",
      " -121.862 -121.725 -121.873 -121.405 -122.486 -121.795 -121.734 -121.403]\n",
      "sqft_living15 [1340 1690 2720 1360 1800 4760 2238 1650 1780 2390 2210 1330 1370 2140\n",
      " 1890 1610 1060 1280 1400 4110 2240 1220 2200 1030 1760 1860 1520 2630\n",
      " 2580 1390 1460 1570 2020 1590 2160 1730 1290 2620 2470 2410 3625 1580\n",
      " 3050 1228 2680  970 1190 1990 1410 1480 2730 1950 2250 2690 2960 2270\n",
      " 2570 2500 1440 2750 2221 1010 3390 3530 1640 1510 2420 1940 3240 1680\n",
      "  890 1130 3350 2350 1870 1720 1850 1900 1980 2520 1350 1750 1160 2550\n",
      " 2370 1240 1270 2990 1380 1540 2090 2640 1830 1620 1880 2340 1710 2700\n",
      " 3060 2660 1700 1970 1420 2060 2480 1550 1170 2820 1560 2230 2840 1450\n",
      " 1500 3160 1200 3400 2110 2920 1770 1070 1930 3740 2260 1670 2290 1050\n",
      " 2540 2190 2030 1230 2330 1300 1430 2770 1250 1630 2590 2130 1100 3836\n",
      " 1320 2120 3070 1910 2080 1960 2280 1150 3430 2070 2600  830 1260 3120\n",
      " 2010 1660 1600 2380 3890 4180 2653 2670 3920 2300 2310 2320 3150 1740\n",
      " 2400 4550 2510 2440 2880 3860 2150 1310 1820 3080  880 2560 3470 1020\n",
      " 2040 2610 1810 2860 3480 3130 3360 4050 2450 1790 3180 3600 2000 2430\n",
      " 2850 4680 2360 3930 1490 2460 2077 1920 3630 3220 2100 3230 4300 3850\n",
      " 2424 2530 3030 2830 2900 2950 1470  940 2740 4210 3340 3980 2180 3715\n",
      " 2050 1080 2095 1000 3330 2170 1408 1530 2760 3110  950 3000 1307 2220\n",
      " 4190 3440 3250 1110 2870 1210 2910 1120 4230 1708 3090 3270 2970 1180\n",
      " 3100 4100 2930 3510 2688 1840 2490 4090 2810 3260 3680 3420 1654 1365\n",
      "  980 1677 1140 3640 3460 3140 1502 3720 2790 2940  990 2890  860 4750\n",
      " 1525 3950 5790  760 2234  960 3210 2780 2800 2305 2665 3620 2710 4320\n",
      " 2650 3370 1509 1277 1981 2434 4640 2242 3040 3970 3200 4600  840 3290\n",
      " 2214 1162 3010 5600 3820 3540 1975 4800  740 3990 3170 1576 1768 3310\n",
      " 2980 1429 3900 3380  820 1090 4060 3910 3190 3450 3730  620 3020 3760\n",
      " 3320 1132 3300 3770 3960  870 3560 4620 3520 1572 3490 1088 3159 4470\n",
      " 3570 4890 3690 3280 2083 3780  920 1941 1566  850 2496 1040 3410 4240\n",
      " 4670 4350 1714 5380 4330 3830 5000 2144 1494 1357  930 3580 4250 4080\n",
      " 3660 1458 3736 1894 2037 1295 4170 3750 3550 4630 1439 3500 2091  900\n",
      " 3880 3710 1616  720  800 2315 1564 2767 3721 4650 4020  780 1728 2027\n",
      " 1264 1404 1459 2028 3639 1943 3425 2641 2114 1309 2412 2517 1802 2011\n",
      " 1466 1414 3193 1845 1156 3670 1696 5340 4440 1745 1884 4690 4920 2406\n",
      " 4160 3810 4480 2848 1746 2634 2049 5330 1536 2273 3056 4010 4700  910\n",
      " 2125 1665 2683 3790  700 1855  750 1078 4150 4340 2344 1098 1175 1188\n",
      " 3700 3840 4042 2518 3800 2488 3590 2052  810 1528 5030 4740 5070 2967\n",
      " 4280 2724 3610 3940 4940 4770 1811 4830 2876 1805 1216 5170 1304 2474\n",
      " 4590 4130 1492 1364 2168 4140 3543 1303 2005 3650 2583 4310 2451 1448\n",
      " 2955 2142  790 1638 2554 2441 2216 4220 1961 4540  770 4200 3413 1664\n",
      " 2136 3568 4510 1484 1358 2106 1834 2014 4390 4570 2175 6110 4260  710\n",
      " 2112 1934 1518 1302 2622 2619 2382 4290 4560 4000 1336 3112 4070 1468\n",
      " 1571 2605 1138 5110 4850 2165 4410 1678 5610 1984 4660 3870 4370  460\n",
      " 4610 1914 3515 2246 1786 2109 2326 2728 4400 4950 1767 2054 5500 2555\n",
      " 3674 2765 1862 1352 4030  399 2415 2901 1815 2236 2253 2004 1356 2403\n",
      " 1137 1256 4930 4040 2376 4520 4490 2189 2566 2396 1282 2155 1056 2389\n",
      " 2256 3618 1326 1168 4913  806 1369 2405 2875 1425 5220 1442 2333 3335\n",
      " 1321 3045 1546 4730 2697 2822 2076 1757 4780  952 4270 2075 2667 1092\n",
      " 1217 1716 1792 2961 1125 1463 1886  670 4460 2336 3557 5200 2258 1377\n",
      " 2019 2092 4900 2615 1639 1765 1554 1381 4120 5080 1445 2793 2475  998\n",
      " 2384 2575 1398 1584 2439 2197 2029 4362 1443 4420 1691 2495 2437 2547\n",
      " 6210 2009 1847 1346 2578 2879 2255 2815 1608  690 2425 1481 2458 2358\n",
      " 2056 1921 2419 2996 2502 1798 3087 1076 2981 2363 3191 1763 1876 1949\n",
      " 2598 1979 1415 2002 2574 2166 3726 2099 2154 1522 1544 2912 2648 1658\n",
      " 2755 2798 1405 2704 2738 3008 2586 2873 1232 2597 2516 1537 1128 2849\n",
      " 1399 1131 1569 2381 1084 2304 4530 2297 2279 2303 2669 4225 2513 2725\n",
      " 1955 2527 4443 2478 1919 1813 2533  828 2015 3078 4495 2673 2316 2647\n",
      " 3402 3494 2156 3236 2612 2323 2409 2354 1285 2616 1427 1516 2456 2844\n",
      " 1495 2594 2604 1268 2198 3038 2927]\n",
      "sqft_lot15 [5650 7639 8062 ... 5731 1509 2007]\n",
      "sales_year [2014 2015]\n",
      "sales_month [10 12  2  5  6  1  4  3  7  8 11  9]\n"
     ]
    }
   ],
   "source": [
    "# this part is ungraded, but useful to run to check\n",
    "# your code here\n",
    "\n",
    "for c in df2.columns[2:]:\n",
    "    print(c, df2[c].unique())\n"
   ]
  },
  {
   "cell_type": "markdown",
   "metadata": {
    "deletable": false,
    "editable": false,
    "nbgrader": {
     "cell_type": "markdown",
     "checksum": "f7d6258d4287df3aca3ec49586c01f17",
     "grade": false,
     "grade_id": "cell-ee0110eb32b0b7ad",
     "locked": true,
     "schema_version": 3,
     "solution": false,
     "task": false
    }
   },
   "source": [
    "### 4c) Drop features [5 pts]\n",
    "Let's drop features that are unnecessary. `id` is not a meaningful feature. `date` string has been coded to `sales_month` and `sales_year`, so we can remove `date`. `zipcode` can be also removed as it's hard to include in a linear regressio model and the location info is included in the `lat` and `long`.\n",
    "Drop the features `id`, `date`, and `zipcode` and replace the df2."
   ]
  },
  {
   "cell_type": "code",
   "execution_count": 46,
   "metadata": {
    "deletable": false,
    "nbgrader": {
     "cell_type": "code",
     "checksum": "1cbf99fee58b9ce3909532cc4bfe9ed8",
     "grade": false,
     "grade_id": "cell-fba7fcd19732194e",
     "locked": false,
     "schema_version": 3,
     "solution": true,
     "task": false
    }
   },
   "outputs": [
    {
     "data": {
      "text/html": [
       "<div>\n",
       "<style scoped>\n",
       "    .dataframe tbody tr th:only-of-type {\n",
       "        vertical-align: middle;\n",
       "    }\n",
       "\n",
       "    .dataframe tbody tr th {\n",
       "        vertical-align: top;\n",
       "    }\n",
       "\n",
       "    .dataframe thead th {\n",
       "        text-align: right;\n",
       "    }\n",
       "</style>\n",
       "<table border=\"1\" class=\"dataframe\">\n",
       "  <thead>\n",
       "    <tr style=\"text-align: right;\">\n",
       "      <th></th>\n",
       "      <th>price</th>\n",
       "      <th>bedrooms</th>\n",
       "      <th>bathrooms</th>\n",
       "      <th>sqft_living</th>\n",
       "      <th>sqft_lot</th>\n",
       "      <th>floors</th>\n",
       "      <th>waterfront</th>\n",
       "      <th>view</th>\n",
       "      <th>condition</th>\n",
       "      <th>grade</th>\n",
       "      <th>sqft_above</th>\n",
       "      <th>sqft_basement</th>\n",
       "      <th>yr_built</th>\n",
       "      <th>yr_renovated</th>\n",
       "      <th>lat</th>\n",
       "      <th>long</th>\n",
       "      <th>sqft_living15</th>\n",
       "      <th>sqft_lot15</th>\n",
       "      <th>sales_year</th>\n",
       "      <th>sales_month</th>\n",
       "    </tr>\n",
       "  </thead>\n",
       "  <tbody>\n",
       "    <tr>\n",
       "      <th>0</th>\n",
       "      <td>221900</td>\n",
       "      <td>3</td>\n",
       "      <td>1.00</td>\n",
       "      <td>1180</td>\n",
       "      <td>5650</td>\n",
       "      <td>1.0</td>\n",
       "      <td>0</td>\n",
       "      <td>0</td>\n",
       "      <td>3</td>\n",
       "      <td>7</td>\n",
       "      <td>1180</td>\n",
       "      <td>0</td>\n",
       "      <td>1955</td>\n",
       "      <td>0</td>\n",
       "      <td>47.5112</td>\n",
       "      <td>-122.257</td>\n",
       "      <td>1340</td>\n",
       "      <td>5650</td>\n",
       "      <td>2014</td>\n",
       "      <td>10</td>\n",
       "    </tr>\n",
       "    <tr>\n",
       "      <th>1</th>\n",
       "      <td>538000</td>\n",
       "      <td>3</td>\n",
       "      <td>2.25</td>\n",
       "      <td>2570</td>\n",
       "      <td>7242</td>\n",
       "      <td>2.0</td>\n",
       "      <td>0</td>\n",
       "      <td>0</td>\n",
       "      <td>3</td>\n",
       "      <td>7</td>\n",
       "      <td>2170</td>\n",
       "      <td>400</td>\n",
       "      <td>1951</td>\n",
       "      <td>1991</td>\n",
       "      <td>47.7210</td>\n",
       "      <td>-122.319</td>\n",
       "      <td>1690</td>\n",
       "      <td>7639</td>\n",
       "      <td>2014</td>\n",
       "      <td>12</td>\n",
       "    </tr>\n",
       "    <tr>\n",
       "      <th>2</th>\n",
       "      <td>180000</td>\n",
       "      <td>2</td>\n",
       "      <td>1.00</td>\n",
       "      <td>770</td>\n",
       "      <td>10000</td>\n",
       "      <td>1.0</td>\n",
       "      <td>0</td>\n",
       "      <td>0</td>\n",
       "      <td>3</td>\n",
       "      <td>6</td>\n",
       "      <td>770</td>\n",
       "      <td>0</td>\n",
       "      <td>1933</td>\n",
       "      <td>0</td>\n",
       "      <td>47.7379</td>\n",
       "      <td>-122.233</td>\n",
       "      <td>2720</td>\n",
       "      <td>8062</td>\n",
       "      <td>2015</td>\n",
       "      <td>2</td>\n",
       "    </tr>\n",
       "    <tr>\n",
       "      <th>3</th>\n",
       "      <td>604000</td>\n",
       "      <td>4</td>\n",
       "      <td>3.00</td>\n",
       "      <td>1960</td>\n",
       "      <td>5000</td>\n",
       "      <td>1.0</td>\n",
       "      <td>0</td>\n",
       "      <td>0</td>\n",
       "      <td>5</td>\n",
       "      <td>7</td>\n",
       "      <td>1050</td>\n",
       "      <td>910</td>\n",
       "      <td>1965</td>\n",
       "      <td>0</td>\n",
       "      <td>47.5208</td>\n",
       "      <td>-122.393</td>\n",
       "      <td>1360</td>\n",
       "      <td>5000</td>\n",
       "      <td>2014</td>\n",
       "      <td>12</td>\n",
       "    </tr>\n",
       "    <tr>\n",
       "      <th>4</th>\n",
       "      <td>510000</td>\n",
       "      <td>3</td>\n",
       "      <td>2.00</td>\n",
       "      <td>1680</td>\n",
       "      <td>8080</td>\n",
       "      <td>1.0</td>\n",
       "      <td>0</td>\n",
       "      <td>0</td>\n",
       "      <td>3</td>\n",
       "      <td>8</td>\n",
       "      <td>1680</td>\n",
       "      <td>0</td>\n",
       "      <td>1987</td>\n",
       "      <td>0</td>\n",
       "      <td>47.6168</td>\n",
       "      <td>-122.045</td>\n",
       "      <td>1800</td>\n",
       "      <td>7503</td>\n",
       "      <td>2015</td>\n",
       "      <td>2</td>\n",
       "    </tr>\n",
       "    <tr>\n",
       "      <th>...</th>\n",
       "      <td>...</td>\n",
       "      <td>...</td>\n",
       "      <td>...</td>\n",
       "      <td>...</td>\n",
       "      <td>...</td>\n",
       "      <td>...</td>\n",
       "      <td>...</td>\n",
       "      <td>...</td>\n",
       "      <td>...</td>\n",
       "      <td>...</td>\n",
       "      <td>...</td>\n",
       "      <td>...</td>\n",
       "      <td>...</td>\n",
       "      <td>...</td>\n",
       "      <td>...</td>\n",
       "      <td>...</td>\n",
       "      <td>...</td>\n",
       "      <td>...</td>\n",
       "      <td>...</td>\n",
       "      <td>...</td>\n",
       "    </tr>\n",
       "    <tr>\n",
       "      <th>21608</th>\n",
       "      <td>360000</td>\n",
       "      <td>3</td>\n",
       "      <td>2.50</td>\n",
       "      <td>1530</td>\n",
       "      <td>1131</td>\n",
       "      <td>3.0</td>\n",
       "      <td>0</td>\n",
       "      <td>0</td>\n",
       "      <td>3</td>\n",
       "      <td>8</td>\n",
       "      <td>1530</td>\n",
       "      <td>0</td>\n",
       "      <td>2009</td>\n",
       "      <td>0</td>\n",
       "      <td>47.6993</td>\n",
       "      <td>-122.346</td>\n",
       "      <td>1530</td>\n",
       "      <td>1509</td>\n",
       "      <td>2014</td>\n",
       "      <td>5</td>\n",
       "    </tr>\n",
       "    <tr>\n",
       "      <th>21609</th>\n",
       "      <td>400000</td>\n",
       "      <td>4</td>\n",
       "      <td>2.50</td>\n",
       "      <td>2310</td>\n",
       "      <td>5813</td>\n",
       "      <td>2.0</td>\n",
       "      <td>0</td>\n",
       "      <td>0</td>\n",
       "      <td>3</td>\n",
       "      <td>8</td>\n",
       "      <td>2310</td>\n",
       "      <td>0</td>\n",
       "      <td>2014</td>\n",
       "      <td>0</td>\n",
       "      <td>47.5107</td>\n",
       "      <td>-122.362</td>\n",
       "      <td>1830</td>\n",
       "      <td>7200</td>\n",
       "      <td>2015</td>\n",
       "      <td>2</td>\n",
       "    </tr>\n",
       "    <tr>\n",
       "      <th>21610</th>\n",
       "      <td>402101</td>\n",
       "      <td>2</td>\n",
       "      <td>0.75</td>\n",
       "      <td>1020</td>\n",
       "      <td>1350</td>\n",
       "      <td>2.0</td>\n",
       "      <td>0</td>\n",
       "      <td>0</td>\n",
       "      <td>3</td>\n",
       "      <td>7</td>\n",
       "      <td>1020</td>\n",
       "      <td>0</td>\n",
       "      <td>2009</td>\n",
       "      <td>0</td>\n",
       "      <td>47.5944</td>\n",
       "      <td>-122.299</td>\n",
       "      <td>1020</td>\n",
       "      <td>2007</td>\n",
       "      <td>2014</td>\n",
       "      <td>6</td>\n",
       "    </tr>\n",
       "    <tr>\n",
       "      <th>21611</th>\n",
       "      <td>400000</td>\n",
       "      <td>3</td>\n",
       "      <td>2.50</td>\n",
       "      <td>1600</td>\n",
       "      <td>2388</td>\n",
       "      <td>2.0</td>\n",
       "      <td>0</td>\n",
       "      <td>0</td>\n",
       "      <td>3</td>\n",
       "      <td>8</td>\n",
       "      <td>1600</td>\n",
       "      <td>0</td>\n",
       "      <td>2004</td>\n",
       "      <td>0</td>\n",
       "      <td>47.5345</td>\n",
       "      <td>-122.069</td>\n",
       "      <td>1410</td>\n",
       "      <td>1287</td>\n",
       "      <td>2015</td>\n",
       "      <td>1</td>\n",
       "    </tr>\n",
       "    <tr>\n",
       "      <th>21612</th>\n",
       "      <td>325000</td>\n",
       "      <td>2</td>\n",
       "      <td>0.75</td>\n",
       "      <td>1020</td>\n",
       "      <td>1076</td>\n",
       "      <td>2.0</td>\n",
       "      <td>0</td>\n",
       "      <td>0</td>\n",
       "      <td>3</td>\n",
       "      <td>7</td>\n",
       "      <td>1020</td>\n",
       "      <td>0</td>\n",
       "      <td>2008</td>\n",
       "      <td>0</td>\n",
       "      <td>47.5941</td>\n",
       "      <td>-122.299</td>\n",
       "      <td>1020</td>\n",
       "      <td>1357</td>\n",
       "      <td>2014</td>\n",
       "      <td>10</td>\n",
       "    </tr>\n",
       "  </tbody>\n",
       "</table>\n",
       "<p>21613 rows × 20 columns</p>\n",
       "</div>"
      ],
      "text/plain": [
       "        price  bedrooms  bathrooms  sqft_living  sqft_lot  floors  waterfront  \\\n",
       "0      221900         3       1.00         1180      5650     1.0           0   \n",
       "1      538000         3       2.25         2570      7242     2.0           0   \n",
       "2      180000         2       1.00          770     10000     1.0           0   \n",
       "3      604000         4       3.00         1960      5000     1.0           0   \n",
       "4      510000         3       2.00         1680      8080     1.0           0   \n",
       "...       ...       ...        ...          ...       ...     ...         ...   \n",
       "21608  360000         3       2.50         1530      1131     3.0           0   \n",
       "21609  400000         4       2.50         2310      5813     2.0           0   \n",
       "21610  402101         2       0.75         1020      1350     2.0           0   \n",
       "21611  400000         3       2.50         1600      2388     2.0           0   \n",
       "21612  325000         2       0.75         1020      1076     2.0           0   \n",
       "\n",
       "       view  condition  grade  sqft_above  sqft_basement  yr_built  \\\n",
       "0         0          3      7        1180              0      1955   \n",
       "1         0          3      7        2170            400      1951   \n",
       "2         0          3      6         770              0      1933   \n",
       "3         0          5      7        1050            910      1965   \n",
       "4         0          3      8        1680              0      1987   \n",
       "...     ...        ...    ...         ...            ...       ...   \n",
       "21608     0          3      8        1530              0      2009   \n",
       "21609     0          3      8        2310              0      2014   \n",
       "21610     0          3      7        1020              0      2009   \n",
       "21611     0          3      8        1600              0      2004   \n",
       "21612     0          3      7        1020              0      2008   \n",
       "\n",
       "       yr_renovated      lat     long  sqft_living15  sqft_lot15  sales_year  \\\n",
       "0                 0  47.5112 -122.257           1340        5650        2014   \n",
       "1              1991  47.7210 -122.319           1690        7639        2014   \n",
       "2                 0  47.7379 -122.233           2720        8062        2015   \n",
       "3                 0  47.5208 -122.393           1360        5000        2014   \n",
       "4                 0  47.6168 -122.045           1800        7503        2015   \n",
       "...             ...      ...      ...            ...         ...         ...   \n",
       "21608             0  47.6993 -122.346           1530        1509        2014   \n",
       "21609             0  47.5107 -122.362           1830        7200        2015   \n",
       "21610             0  47.5944 -122.299           1020        2007        2014   \n",
       "21611             0  47.5345 -122.069           1410        1287        2015   \n",
       "21612             0  47.5941 -122.299           1020        1357        2014   \n",
       "\n",
       "       sales_month  \n",
       "0               10  \n",
       "1               12  \n",
       "2                2  \n",
       "3               12  \n",
       "4                2  \n",
       "...            ...  \n",
       "21608            5  \n",
       "21609            2  \n",
       "21610            6  \n",
       "21611            1  \n",
       "21612           10  \n",
       "\n",
       "[21613 rows x 20 columns]"
      ]
     },
     "execution_count": 46,
     "metadata": {},
     "output_type": "execute_result"
    }
   ],
   "source": [
    "# drop unnecessary features, replace df2\n",
    "# your code here\n",
    "del df2['id']\n",
    "del df2['date']\n",
    "del df2['zipcode']\n",
    "df2\n"
   ]
  },
  {
   "cell_type": "code",
   "execution_count": 47,
   "metadata": {
    "deletable": false,
    "editable": false,
    "nbgrader": {
     "cell_type": "code",
     "checksum": "168f22892a862f746c7b8f6d4e9b940b",
     "grade": true,
     "grade_id": "cell-09acbfd67a77b038",
     "locked": true,
     "points": 5,
     "schema_version": 3,
     "solution": false,
     "task": false
    }
   },
   "outputs": [],
   "source": [
    "# tests that you droppd the features id, date, and zipcode from df2"
   ]
  },
  {
   "cell_type": "markdown",
   "metadata": {
    "deletable": false,
    "editable": false,
    "nbgrader": {
     "cell_type": "markdown",
     "checksum": "a1c45f66c50ac14cfb30250dc8993dfa",
     "grade": false,
     "grade_id": "cell-c28ed0de4ca75d60",
     "locked": true,
     "schema_version": 3,
     "solution": false,
     "task": false
    }
   },
   "source": [
    "## 5. More inspection; Correlation and pair plot [5 pts and Peer Review]\n",
    "### 5a) Get correlation matrix on the data frame. [5 pts]\n",
    "Which feature may be the best predictor of price based on the correlation? Answer as a string value (e.g. best_guess_predictor = 'price' or best_guess_predictor = 'yr_built')"
   ]
  },
  {
   "cell_type": "code",
   "execution_count": 48,
   "metadata": {
    "deletable": false,
    "nbgrader": {
     "cell_type": "code",
     "checksum": "cb690bf4d70356a08f0ee1f6d5e1545d",
     "grade": false,
     "grade_id": "cell-0e9bdc9ee6161b7e",
     "locked": false,
     "schema_version": 3,
     "solution": true,
     "task": false
    }
   },
   "outputs": [],
   "source": [
    "# your code here\n",
    "\n",
    "# uncomment and update best_guess_predictor with a string value\n",
    "best_guess_predictor = 'sqft_living'"
   ]
  },
  {
   "cell_type": "code",
   "execution_count": 49,
   "metadata": {
    "deletable": false,
    "editable": false,
    "nbgrader": {
     "cell_type": "code",
     "checksum": "cab8b0ff1b82e974b4cf97ca749a863b",
     "grade": true,
     "grade_id": "cell-455e59f31501b283",
     "locked": true,
     "points": 5,
     "schema_version": 3,
     "solution": false,
     "task": false
    }
   },
   "outputs": [],
   "source": [
    "# tests the solution for best_guess_predictor"
   ]
  },
  {
   "cell_type": "markdown",
   "metadata": {
    "deletable": false,
    "editable": false,
    "nbgrader": {
     "cell_type": "markdown",
     "checksum": "1817d93250c95bb59947131cfa2a46dd",
     "grade": false,
     "grade_id": "cell-7120f691348f8907",
     "locked": true,
     "schema_version": 3,
     "solution": false,
     "task": false
    }
   },
   "source": [
    "### 5b) Display the correlation matrix as heat map [Peer Review]\n",
    "[`seaborn.heatmap()`](https://seaborn.pydata.org/generated/seaborn.heatmap.html) can visualize a matrix as a heatmap. Visualize the correlation matrix using seaborn.heatmap(). Play with color map, text font size, decimals, text orientation etc. If you find how to make a pretty visualization, please share in the discussion board. You will upload your correlation matrix in the Peer Review assigment for the week. <br>\n",
    "**Note:** your code for this section may cause the Validate button to time out. If you want to run the Validate button prior to submitting, you could comment out the code in this section after completing the Peer Review."
   ]
  },
  {
   "cell_type": "code",
   "execution_count": 108,
   "metadata": {
    "deletable": false,
    "nbgrader": {
     "cell_type": "code",
     "checksum": "e95f16cad0f32b2a0c93718527f1e245",
     "grade": false,
     "grade_id": "cell-2e19c30b0454fabd",
     "locked": false,
     "schema_version": 3,
     "solution": true,
     "task": false
    }
   },
   "outputs": [
    {
     "data": {
      "text/plain": [
       "<matplotlib.axes._subplots.AxesSubplot at 0x7ff179b83290>"
      ]
     },
     "execution_count": 108,
     "metadata": {},
     "output_type": "execute_result"
    },
    {
     "data": {
      "image/png": "[encoded data removed]",
      "text/plain": [
       "<Figure size 432x288 with 2 Axes>"
      ]
     },
     "metadata": {
      "needs_background": "light"
     },
     "output_type": "display_data"
    }
   ],
   "source": [
    "# practice visualizing correlation matrix using a heatmap\n",
    "# your code here\n",
    "#uniform_data = np.random.rand(10, 12)\n",
    "data = df2.corr()\n",
    "sns.heatmap(data, square=True)"
   ]
  },
  {
   "cell_type": "markdown",
   "metadata": {
    "deletable": false,
    "editable": false,
    "nbgrader": {
     "cell_type": "markdown",
     "checksum": "4bc30478e1041f69ef668e8b3c49d34c",
     "grade": false,
     "grade_id": "cell-b376b65ab6badfa0",
     "locked": true,
     "schema_version": 3,
     "solution": false,
     "task": false
    }
   },
   "source": [
    "### 5c) Pair plot [Peer Review]\n",
    "Pair plot is a fast way to inspect relationships between features. Use seaborn's .pairplot() function to draw a pairplot if the first 10 columns (including price) and inspect their relationships. Set the diagonal elements to be KDE plot. You will upload your pair plot in this week's Peer Review assignment. <br>\n",
    "**Note:** your code for this section may cause the Validate button to time out. If you want to run the Validate button prior to submitting, you could comment out the code in this section after completing the Peer Review."
   ]
  },
  {
   "cell_type": "code",
   "execution_count": null,
   "metadata": {
    "deletable": false,
    "nbgrader": {
     "cell_type": "code",
     "checksum": "db9c2c0cb30348e3839528115fd1cac4",
     "grade": false,
     "grade_id": "cell-630895ed926e33b7",
     "locked": false,
     "schema_version": 3,
     "solution": true,
     "task": false
    }
   },
   "outputs": [
    {
     "name": "stdout",
     "output_type": "stream",
     "text": [
      "        price  bedrooms  bathrooms  sqft_living  sqft_lot  floors  waterfront  \\\n",
      "0      221900         3       1.00         1180      5650     1.0           0   \n",
      "1      538000         3       2.25         2570      7242     2.0           0   \n",
      "2      180000         2       1.00          770     10000     1.0           0   \n",
      "3      604000         4       3.00         1960      5000     1.0           0   \n",
      "4      510000         3       2.00         1680      8080     1.0           0   \n",
      "...       ...       ...        ...          ...       ...     ...         ...   \n",
      "21608  360000         3       2.50         1530      1131     3.0           0   \n",
      "21609  400000         4       2.50         2310      5813     2.0           0   \n",
      "21610  402101         2       0.75         1020      1350     2.0           0   \n",
      "21611  400000         3       2.50         1600      2388     2.0           0   \n",
      "21612  325000         2       0.75         1020      1076     2.0           0   \n",
      "\n",
      "       view  condition  grade  sqft_above  sqft_basement  yr_built  \\\n",
      "0         0          3      7        1180              0      1955   \n",
      "1         0          3      7        2170            400      1951   \n",
      "2         0          3      6         770              0      1933   \n",
      "3         0          5      7        1050            910      1965   \n",
      "4         0          3      8        1680              0      1987   \n",
      "...     ...        ...    ...         ...            ...       ...   \n",
      "21608     0          3      8        1530              0      2009   \n",
      "21609     0          3      8        2310              0      2014   \n",
      "21610     0          3      7        1020              0      2009   \n",
      "21611     0          3      8        1600              0      2004   \n",
      "21612     0          3      7        1020              0      2008   \n",
      "\n",
      "       yr_renovated      lat     long  sqft_living15  sqft_lot15  sales_year  \\\n",
      "0                 0  47.5112 -122.257           1340        5650        2014   \n",
      "1              1991  47.7210 -122.319           1690        7639        2014   \n",
      "2                 0  47.7379 -122.233           2720        8062        2015   \n",
      "3                 0  47.5208 -122.393           1360        5000        2014   \n",
      "4                 0  47.6168 -122.045           1800        7503        2015   \n",
      "...             ...      ...      ...            ...         ...         ...   \n",
      "21608             0  47.6993 -122.346           1530        1509        2014   \n",
      "21609             0  47.5107 -122.362           1830        7200        2015   \n",
      "21610             0  47.5944 -122.299           1020        2007        2014   \n",
      "21611             0  47.5345 -122.069           1410        1287        2015   \n",
      "21612             0  47.5941 -122.299           1020        1357        2014   \n",
      "\n",
      "       sales_month  \n",
      "0               10  \n",
      "1               12  \n",
      "2                2  \n",
      "3               12  \n",
      "4                2  \n",
      "...            ...  \n",
      "21608            5  \n",
      "21609            2  \n",
      "21610            6  \n",
      "21611            1  \n",
      "21612           10  \n",
      "\n",
      "[21613 rows x 20 columns]\n"
     ]
    },
    {
     "data": {
      "text/plain": [
       "<seaborn.axisgrid.PairGrid at 0x7ff12016a890>"
      ]
     },
     "execution_count": 51,
     "metadata": {},
     "output_type": "execute_result"
    }
   ],
   "source": [
    "# practice inspecting relationships between features using a pair plot. \n",
    "# your code here\n",
    "print(df2)\n",
    "sns.pairplot(df2, vars=('price','bedrooms','bathrooms','sqft_living','sqft_lot','floors','waterfront','view','condition','grade'))"
   ]
  },
  {
   "cell_type": "markdown",
   "metadata": {
    "deletable": false,
    "editable": false,
    "nbgrader": {
     "cell_type": "markdown",
     "checksum": "17d88751d4b6c6ce5a179f59ead2b6a1",
     "grade": false,
     "grade_id": "cell-a472da53d90eea44",
     "locked": true,
     "schema_version": 3,
     "solution": false,
     "task": false
    }
   },
   "source": [
    "## 6. Simple linear regression [Peer Review]\n",
    "\n",
    "### 6a) Data preparation [Peer Review]\n",
    "We will split the data to train and test datasets such that the test dataset is 20% of original data.\n",
    "Use `sklearn.model_selection.train_test_split` function to split the data frame to X_train and X_test. X_train is 80% of observation randomly chosen. X_test is the rest 20%. Both X_train and X_test are `pd.DataFrame` object and include 'price' in the table. Note that the train_test_split can handle data frame as well as array."
   ]
  },
  {
   "cell_type": "code",
   "execution_count": null,
   "metadata": {
    "deletable": false,
    "nbgrader": {
     "cell_type": "code",
     "checksum": "5e9fcdf30cfa8d2d20762ef012c40469",
     "grade": false,
     "grade_id": "cell-039f3a4314195737",
     "locked": false,
     "schema_version": 3,
     "solution": true,
     "task": false
    }
   },
   "outputs": [],
   "source": [
    "# your code here\n",
    "\n",
    "# use sklearn.model_selecttion.train_test_split to split the data frame \n",
    "# X_train is 80% of the observations; X_test is 20% of the observations\n",
    "# print length of X_train and X_test\n",
    "import sklearn\n",
    "from sklearn.model_selection import train_test_split\n",
    "data = sklearn.model_selection.train_test_split(df2, test_size=0.2, train_size=0.8)\n",
    "\n",
    "data_train = data[0]\n",
    "data_test = data[1]\n",
    "print('Length of X_train ',17290)\n",
    "print('Length of X_test ', 4323)"
   ]
  },
  {
   "cell_type": "code",
   "execution_count": null,
   "metadata": {
    "deletable": false,
    "nbgrader": {
     "cell_type": "code",
     "checksum": "f2bf386978ef52845a151df844611d17",
     "grade": false,
     "grade_id": "cell-8e12fbb95b41c1fd",
     "locked": false,
     "schema_version": 3,
     "solution": true,
     "task": false
    }
   },
   "outputs": [],
   "source": [
    "# instructor testing cell \n",
    "# your code here\n"
   ]
  },
  {
   "cell_type": "markdown",
   "metadata": {
    "deletable": false,
    "editable": false,
    "nbgrader": {
     "cell_type": "markdown",
     "checksum": "37a92fc0c9eefe07832da4260d3ff84b",
     "grade": false,
     "grade_id": "cell-d4c22fe96e318333",
     "locked": true,
     "schema_version": 3,
     "solution": false,
     "task": false
    }
   },
   "source": [
    "### 6b) Train a simple linear regression model [Peer Review]\n",
    "Use the best_guess_predictor as a single predictor and build a simple linear regression model using `statsmodels.formula.api.ols` function (https://www.statsmodels.org/dev/example_formulas.html)\n",
    "Print out the result summary. Train on the X_train portion. What is the adjusted R-squared value?"
   ]
  },
  {
   "cell_type": "code",
   "execution_count": null,
   "metadata": {
    "deletable": false,
    "nbgrader": {
     "cell_type": "code",
     "checksum": "e6711f4aac3baa52c43953c03dfd8538",
     "grade": false,
     "grade_id": "cell-f5291d1c1d6ebee5",
     "locked": false,
     "schema_version": 3,
     "solution": true,
     "task": false
    }
   },
   "outputs": [],
   "source": [
    "# use best_guess_predictor as a single predictor\n",
    "# build a simple linear regression model, train on the X_train portion\n",
    "# your code here\n",
    "import statsmodels.api as sm\n",
    "import statsmodels.formula.api as smf\n",
    "\n",
    "# model = \n",
    "adj_R2 = smf.ols(formula='price ~ bedrooms + bathrooms + sqft_living + sqft_lot + floors + waterfront + view + condition + grade', data=data_train)\n",
    "res = adj_R2.fit()\n",
    "print(res.summary())"
   ]
  },
  {
   "cell_type": "markdown",
   "metadata": {
    "deletable": false,
    "editable": false,
    "nbgrader": {
     "cell_type": "markdown",
     "checksum": "3160d14ebef2700538db6f5b9a62867f",
     "grade": false,
     "grade_id": "cell-a69012fe381b2827",
     "locked": true,
     "schema_version": 3,
     "solution": false,
     "task": false
    }
   },
   "source": [
    "### 6c) Best predictor [Peer Review]\n",
    "In question 5a, we picked a best guess predictor for price based on the correlation matrix. Now we will consider whether the best_guess_predictor that we used is still the best.<br>\n",
    "Print out a list ranking all of the predictors. Then print out a list of the top three predictors in order.<br>      \n",
    "Hint: Linear regression uses adjusted R squared as fit performance. <br>\n",
    "In this week's Peer Review, answer the following questions: What were your top three predictors? How did you order your list of predictors to select those as the top ones? Is your top predictor for this section the same as the best guess predictor you selected in question 5a? "
   ]
  },
  {
   "cell_type": "code",
   "execution_count": null,
   "metadata": {
    "deletable": false,
    "nbgrader": {
     "cell_type": "code",
     "checksum": "19eb58f3f171dc9a81cac6256d8ec962",
     "grade": false,
     "grade_id": "cell-9ca80c1b78b9ccd7",
     "locked": false,
     "schema_version": 3,
     "solution": true,
     "task": false
    }
   },
   "outputs": [],
   "source": [
    "# your code here\n",
    "\n",
    "# uncomment and update top_three\n",
    "# top_three = []"
   ]
  },
  {
   "cell_type": "code",
   "execution_count": null,
   "metadata": {
    "deletable": false,
    "nbgrader": {
     "cell_type": "code",
     "checksum": "ac8c6bcc83c1bd77bba7c986149cc02d",
     "grade": false,
     "grade_id": "cell-a1c9231f7c678cca",
     "locked": false,
     "schema_version": 3,
     "solution": true,
     "task": false
    }
   },
   "outputs": [],
   "source": [
    "# instructor testing cell \n",
    "# your code here\n"
   ]
  }
 ],
 "metadata": {
  "kernelspec": {
   "display_name": "Python 3",
   "language": "python",
   "name": "python3"
  },
  "language_info": {
   "codemirror_mode": {
    "name": "ipython",
    "version": 3
   },
   "file_extension": ".py",
   "mimetype": "text/x-python",
   "name": "python",
   "nbconvert_exporter": "python",
   "pygments_lexer": "ipython3",
   "version": "3.7.6"
  }
 },
 "nbformat": 4,
 "nbformat_minor": 4
}
